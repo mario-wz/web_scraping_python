{
 "cells": [
  {
   "cell_type": "markdown",
   "id": "1c89dd88",
   "metadata": {},
   "source": [
    "# Web Scraping Project - Airbnb "
   ]
  },
  {
   "cell_type": "markdown",
   "id": "c724cba9",
   "metadata": {},
   "source": [
    "### Import libraries"
   ]
  },
  {
   "cell_type": "code",
   "execution_count": 103,
   "id": "35e29e36",
   "metadata": {},
   "outputs": [],
   "source": [
    "# imports\n",
    "import pandas as pd\n",
    "from bs4 import BeautifulSoup # For HTML parsing\n",
    "import requests # Website connections\n",
    "from time import sleep # To prevent overwhelming the server between connections\n",
    "from collections import Counter # Keep track of our term counts\n",
    "import pandas as pd # For converting results to a dataframe and bar chart plots\n",
    "import json # For parsing json"
   ]
  },
  {
   "cell_type": "code",
   "execution_count": 173,
   "id": "ee7bd627",
   "metadata": {},
   "outputs": [],
   "source": [
    "import numpy as np\n",
    "import matplotlib.pyplot as plt # Data Visualization\n",
    "%matplotlib inline"
   ]
  },
  {
   "cell_type": "markdown",
   "id": "e8126af7",
   "metadata": {},
   "source": [
    "### Get the html code for every listings on the webpage\n",
    "- Example city: Totonto; Date: 2021.10.25- 2021.10.29 (weekday); Guest: not specified"
   ]
  },
  {
   "cell_type": "code",
   "execution_count": 104,
   "id": "c5c838d2",
   "metadata": {},
   "outputs": [],
   "source": [
    "def get_page(page_url):\n",
    "    result =requests.get(page_url)\n",
    "    content = result.content\n",
    "    soup = BeautifulSoup(content, 'html.parser')\n",
    "    listings = soup.find_all('div', class_ = '_8s3ctt') # Every listing has the same tag and class name\n",
    "    return listings"
   ]
  },
  {
   "cell_type": "code",
   "execution_count": 108,
   "id": "9a565a94",
   "metadata": {},
   "outputs": [],
   "source": [
    "airbnb_url = 'https://www.airbnb.ca/s/Toronto--ON/homes?tab_id=home_tab&refinement_paths%5B%5D=%2Fhomes&flexible_trip_dates%5B%5D=november&flexible_trip_dates%5B%5D=october&flexible_trip_lengths%5B%5D=weekend_trip&date_picker_type=calendar&query=Toronto%2C%20ON&place_id=ChIJpTvG15DL1IkRd8S0KlBVNTI&checkin=2021-10-25&checkout=2021-10-29&source=structured_search_input_header&search_type=autocomplete_click'"
   ]
  },
  {
   "cell_type": "code",
   "execution_count": 109,
   "id": "c7a0a2e9",
   "metadata": {},
   "outputs": [],
   "source": [
    "listings = get_page(airbnb_url)"
   ]
  },
  {
   "cell_type": "markdown",
   "id": "2ef3130c",
   "metadata": {},
   "source": [
    "### Airbnb website contains 20 listings per page"
   ]
  },
  {
   "cell_type": "code",
   "execution_count": 110,
   "id": "ef767ecf",
   "metadata": {},
   "outputs": [
    {
     "data": {
      "text/plain": [
       "20"
      ]
     },
     "execution_count": 110,
     "metadata": {},
     "output_type": "execute_result"
    }
   ],
   "source": [
    "len(listings)"
   ]
  },
  {
   "cell_type": "code",
   "execution_count": 111,
   "id": "12ca9d04",
   "metadata": {
    "scrolled": true
   },
   "outputs": [
    {
     "name": "stdout",
     "output_type": "stream",
     "text": [
      "<div aria-labelledby=\"title_52826732\" class=\"_8s3ctt\" role=\"group\">\n",
      " <a aria-labelledby=\"title_52826732\" class=\"_mm360j\" href=\"/rooms/52826732?check_in=2021-10-25&amp;check_out=2021-10-29&amp;previous_page_section_name=1000&amp;translate_ugc=false&amp;federated_search_id=709e34d1-427d-4a2a-a054-c8c446861b95\" rel=\"noopener noreferrer\" target=\"listing_52826732\">\n",
      " </a>\n",
      " <div class=\"_1nz9l7j\">\n",
      "  <div class=\"_bp2sgw9\" style=\"--listing-card-media-border-radius:12px\">\n",
      "   <div class=\"_1mx6kqf\" style=\"background:var(--d-nc-lt-s);--dls-basecard-padding-top:66.6667%\">\n",
      "    <div class=\"_1szwzht\">\n",
      "     <div class=\"_v0gz4uz\" style=\"--dls-liteimage-padding-top:66.6667%\">\n",
      "      <div class=\"_4626ulj\">\n",
      "       <picture>\n",
      "        <source media=\"(max-width: 743px)\" srcset=\"https://a0.muscache.com/im/pictures/b19ab832-6818-4e9f-ac2d-1d809f830f7e.jpg?im_w=480 1x\"/>\n",
      "        <source media=\"(min-width: 743.1px) and (max-width: 1127px)\" srcset=\"https://a0.muscache.com/im/pictures/b19ab832-6818-4e9f-ac2d-1d809f830f7e.jpg?im_w=480 1x\"/>\n",
      "        <source media=\"(min-width: 1127.1px) and (max-width: 1439px)\" srcset=\"https://a0.muscache.com/im/pictures/b19ab832-6818-4e9f-ac2d-1d809f830f7e.jpg?im_w=480 1x\"/>\n",
      "        <source media=\"(min-width: 1439.1px)\" srcset=\"https://a0.muscache.com/im/pictures/b19ab832-6818-4e9f-ac2d-1d809f830f7e.jpg?im_w=480 1x\"/>\n",
      "        <img alt=\"\" aria-hidden=\"true\" class=\"_1cb9q3xq\" data-original-uri=\"https://a0.muscache.com/im/pictures/b19ab832-6818-4e9f-ac2d-1d809f830f7e.jpg?im_w=720\" src=\"https://a0.muscache.com/im/pictures/b19ab832-6818-4e9f-ac2d-1d809f830f7e.jpg?im_w=720\" style=\"object-fit:cover\"/>\n",
      "       </picture>\n",
      "       <div class=\"_10xjrv2u\" style=\"background-image:url(https://a0.muscache.com/im/pictures/b19ab832-6818-4e9f-ac2d-1d809f830f7e.jpg?im_w=720);background-size:cover\">\n",
      "       </div>\n",
      "      </div>\n",
      "     </div>\n",
      "    </div>\n",
      "   </div>\n",
      "   <div class=\"_5ogqp7\">\n",
      "    <div class=\"t11ipxgl dir dir-ltr\" style=\"--media-overlay-top-row-padding:var(--fgg-f-l-a)\">\n",
      "     <div>\n",
      "     </div>\n",
      "    </div>\n",
      "    <div class=\"_1xzy2\">\n",
      "     <div class=\"_3foscvf\">\n",
      "      <button aria-label=\"Previous image\" class=\"_177jc1o\" type=\"button\">\n",
      "       <span class=\"_3hmsj\">\n",
      "        <svg aria-hidden=\"true\" focusable=\"false\" role=\"presentation\" style=\"height:10px;width:10px;display:block;fill:currentColor\" viewbox=\"0 0 16 16\">\n",
      "         <path d=\"m10.8 16c-.4 0-.7-.1-.9-.4l-6.8-6.7c-.5-.5-.5-1.3 0-1.8l6.8-6.7c.5-.5 1.2-.5 1.7 0s .5 1.2 0 1.7l-5.8 5.9 5.8 5.9c.5.5.5 1.2 0 1.7-.2.3-.5.4-.8.4\">\n",
      "         </path>\n",
      "        </svg>\n",
      "       </span>\n",
      "      </button>\n",
      "     </div>\n",
      "     <div class=\"_11el2tbg\">\n",
      "      <button aria-label=\"Next image\" class=\"_177jc1o\" type=\"button\">\n",
      "       <span class=\"_3hmsj\">\n",
      "        <svg aria-hidden=\"true\" focusable=\"false\" role=\"presentation\" style=\"height:10px;width:10px;display:block;fill:currentColor\" viewbox=\"0 0 16 16\">\n",
      "         <path d=\"m5.3 16c .3 0 .6-.1.8-.4l6.8-6.7c.5-.5.5-1.3 0-1.8l-6.8-6.7c-.5-.5-1.2-.5-1.7 0s-.5 1.2 0 1.7l5.8 5.9-5.8 5.9c-.5.5-.5 1.2 0 1.7.2.3.5.4.9.4\">\n",
      "         </path>\n",
      "        </svg>\n",
      "       </span>\n",
      "      </button>\n",
      "     </div>\n",
      "    </div>\n",
      "    <div class=\"_1coc2b2\">\n",
      "    </div>\n",
      "   </div>\n",
      "  </div>\n",
      " </div>\n",
      " <div class=\"_12oal24\">\n",
      "  <div class=\"_r6zroz\">\n",
      "   <div class=\"_1mleygo\">\n",
      "    <div class=\"_1tanv1h\" style=\"margin-bottom:4px\">\n",
      "     <div class=\"_1xzimiid\">\n",
      "      Entire rental unit in Dovercourt Park\n",
      "     </div>\n",
      "    </div>\n",
      "    <div class=\"_5kaapu\">\n",
      "     <span class=\"_1whrsux9\" id=\"title_52826732\" style=\"line-height:24px;max-height:24px;overflow:hidden;text-overflow:ellipsis;display:-webkit-box;-webkit-line-clamp:1;-webkit-box-orient:vertical;@supports (overflow: clip):[object Object]\">\n",
      "      Spacious and clean one bedroom\n",
      "     </span>\n",
      "    </div>\n",
      "   </div>\n",
      "  </div>\n",
      "  <div class=\"_12xcxtl\" style=\"margin-top:11px;width:32px\">\n",
      "  </div>\n",
      "  <div class=\"_3c0zz1\" style=\"margin-top:9px\">\n",
      "   <span class=\"_3hmsj\">\n",
      "    2 guests\n",
      "   </span>\n",
      "   <span aria-hidden=\"true\">\n",
      "    ·\n",
      "   </span>\n",
      "   <span class=\"_3hmsj\">\n",
      "    1 bedroom\n",
      "   </span>\n",
      "   <span aria-hidden=\"true\">\n",
      "    ·\n",
      "   </span>\n",
      "   <span class=\"_3hmsj\">\n",
      "    1 bed\n",
      "   </span>\n",
      "   <span aria-hidden=\"true\">\n",
      "    ·\n",
      "   </span>\n",
      "   <span class=\"_3hmsj\">\n",
      "    1 bath\n",
      "   </span>\n",
      "  </div>\n",
      "  <div class=\"_3c0zz1\" style=\"margin-top:4px\">\n",
      "   <span class=\"_3hmsj\">\n",
      "    Wifi\n",
      "   </span>\n",
      "   <span aria-hidden=\"true\">\n",
      "    ·\n",
      "   </span>\n",
      "   <span class=\"_3hmsj\">\n",
      "    Air conditioning\n",
      "   </span>\n",
      "  </div>\n",
      "  <div class=\"_h34mg6\">\n",
      "   <div class=\"_ls0e43\">\n",
      "    <div style=\"--pricing-guest-display-price-alignment:flex-end;--pricing-guest-display-price-flex-wrap:wrap;--pricing-guest-primary-line-font-size:18px;--pricing-guest-primary-line-line-height:24px;--pricing-guest-primary-line-unit-price-font-weight:800;--pricing-guest-primary-line-trialing-content-font-size:14px;--pricing-guest-secondary-line-font-size:14px;--pricing-guest-secondary-line-line-height:18px;--pricing-guest-secondary-line-color:#717171;--pricing-guest-explanation-disclaimer-font-size:14px;--pricing-guest-explanation-disclaimer-line-height:18px;--pricing-guest-primary-line-strikethrough-price-font-weight:600;--pricing-guest-primary-line-qualifier-font-size:18px;--pricing-guest-primary-line-qualifier-line-height:24px\">\n",
      "     <div class=\"_ati8ih\">\n",
      "      <div class=\"_1n700sq\">\n",
      "       <div aria-hidden=\"true\" class=\"_1jo4hgw\">\n",
      "        <span class=\"_tyxjp1\">\n",
      "         $84 CAD\n",
      "        </span>\n",
      "        <span class=\"_1vylq8i\">\n",
      "         <!-- -->\n",
      "         / night\n",
      "        </span>\n",
      "       </div>\n",
      "       <span class=\"a8jt5op dir dir-ltr\">\n",
      "        $84 CAD per night\n",
      "       </span>\n",
      "      </div>\n",
      "      <div class=\"_10d7v0r\">\n",
      "       <button class=\"_nobfedm\" type=\"button\">\n",
      "        <div class=\"_oeya9x\">\n",
      "         <div class=\"_tt122m\">\n",
      "          <span aria-hidden=\"true\">\n",
      "           $337 CAD total\n",
      "          </span>\n",
      "         </div>\n",
      "         <span class=\"a8jt5op dir dir-ltr\">\n",
      "          $337 CAD total\n",
      "         </span>\n",
      "        </div>\n",
      "        <span class=\"a8jt5op dir dir-ltr\">\n",
      "         View price breakdown\n",
      "        </span>\n",
      "       </button>\n",
      "      </div>\n",
      "     </div>\n",
      "    </div>\n",
      "   </div>\n",
      "  </div>\n",
      " </div>\n",
      "</div>\n",
      "\n"
     ]
    }
   ],
   "source": [
    "print(listings[0].prettify())"
   ]
  },
  {
   "cell_type": "markdown",
   "id": "c89b928d",
   "metadata": {},
   "source": [
    "### Create a dictionary that indicates elements' position"
   ]
  },
  {
   "cell_type": "code",
   "execution_count": 112,
   "id": "8bf5f1ad",
   "metadata": {},
   "outputs": [],
   "source": [
    "page_elements = {\n",
    "    'url': {'tag':'a', 'get':'href'},\n",
    "    'name': {'tag':'span', 'class':'_1whrsux9'},\n",
    "    'header': {'tag':'div', 'class':'_1xzimiid'},\n",
    "    'rooms': {'tag':'div', 'class':'_3c0zz1', 'order':0},\n",
    "    'facilities': {'tag':'div', 'class':'_3c0zz1', 'order':1},\n",
    "    'rating': {'tag':'span', 'class':'_18khxk1'},\n",
    "    'price': {'tag':'span', 'class':'a8jt5op dir dir-ltr'},\n",
    "    'superhost':{'tag':'div', 'class':'_1u0inz4'}\n",
    "}"
   ]
  },
  {
   "cell_type": "markdown",
   "id": "b6548ac4",
   "metadata": {},
   "source": [
    "### Find the elements\n",
    "- Find the tag\n",
    "- Find the right position/order\n",
    "- Get text\n",
    "- Error means that element does not exist in this listing"
   ]
  },
  {
   "cell_type": "code",
   "execution_count": 113,
   "id": "5003ab5c",
   "metadata": {},
   "outputs": [],
   "source": [
    "def get_elements(html, elements):\n",
    "    if 'class' in elements:\n",
    "        data = html.find_all(elements['tag'],elements['class'])\n",
    "    else:\n",
    "        data = html.find_all(elements['tag'])\n",
    "    \n",
    "    order = elements.get('order',0)\n",
    "    element = data[order]\n",
    "    \n",
    "    if 'get' in elements:\n",
    "        output = element.get(elements['get'])\n",
    "    else:\n",
    "        output = element.get_text()\n",
    "        \n",
    "    return output"
   ]
  },
  {
   "cell_type": "code",
   "execution_count": 114,
   "id": "583d5d36",
   "metadata": {},
   "outputs": [
    {
     "data": {
      "text/plain": [
       "'/rooms/52826732?check_in=2021-10-25&check_out=2021-10-29&previous_page_section_name=1000&translate_ugc=false&federated_search_id=709e34d1-427d-4a2a-a054-c8c446861b95'"
      ]
     },
     "execution_count": 114,
     "metadata": {},
     "output_type": "execute_result"
    }
   ],
   "source": [
    "get_elements(listings[0], page_elements['url'])"
   ]
  },
  {
   "cell_type": "code",
   "execution_count": 115,
   "id": "cd5dbf86",
   "metadata": {},
   "outputs": [
    {
     "data": {
      "text/plain": [
       "'Spacious and clean one bedroom'"
      ]
     },
     "execution_count": 115,
     "metadata": {},
     "output_type": "execute_result"
    }
   ],
   "source": [
    "get_elements(listings[0], page_elements['name'])"
   ]
  },
  {
   "cell_type": "code",
   "execution_count": 116,
   "id": "1c48c8ad",
   "metadata": {
    "scrolled": true
   },
   "outputs": [
    {
     "data": {
      "text/plain": [
       "'Entire rental unit in Dovercourt Park'"
      ]
     },
     "execution_count": 116,
     "metadata": {},
     "output_type": "execute_result"
    }
   ],
   "source": [
    "get_elements(listings[0], page_elements['header'])"
   ]
  },
  {
   "cell_type": "code",
   "execution_count": 117,
   "id": "6beb2887",
   "metadata": {},
   "outputs": [
    {
     "data": {
      "text/plain": [
       "'2 guests · 1 bedroom · 1 bed · 1 bath'"
      ]
     },
     "execution_count": 117,
     "metadata": {},
     "output_type": "execute_result"
    }
   ],
   "source": [
    "get_elements(listings[0], page_elements['rooms'])"
   ]
  },
  {
   "cell_type": "code",
   "execution_count": 118,
   "id": "6c598923",
   "metadata": {},
   "outputs": [
    {
     "data": {
      "text/plain": [
       "'Wifi · Air conditioning'"
      ]
     },
     "execution_count": 118,
     "metadata": {},
     "output_type": "execute_result"
    }
   ],
   "source": [
    "get_elements(listings[0], page_elements['facilities'])"
   ]
  },
  {
   "cell_type": "code",
   "execution_count": 119,
   "id": "eba75abc",
   "metadata": {},
   "outputs": [
    {
     "ename": "IndexError",
     "evalue": "list index out of range",
     "output_type": "error",
     "traceback": [
      "\u001b[0;31m---------------------------------------------------------------------------\u001b[0m",
      "\u001b[0;31mIndexError\u001b[0m                                Traceback (most recent call last)",
      "\u001b[0;32m<ipython-input-119-64f2ef617e78>\u001b[0m in \u001b[0;36m<module>\u001b[0;34m\u001b[0m\n\u001b[0;32m----> 1\u001b[0;31m \u001b[0mget_elements\u001b[0m\u001b[0;34m(\u001b[0m\u001b[0mlistings\u001b[0m\u001b[0;34m[\u001b[0m\u001b[0;36m0\u001b[0m\u001b[0;34m]\u001b[0m\u001b[0;34m,\u001b[0m \u001b[0mpage_elements\u001b[0m\u001b[0;34m[\u001b[0m\u001b[0;34m'rating'\u001b[0m\u001b[0;34m]\u001b[0m\u001b[0;34m)\u001b[0m\u001b[0;34m\u001b[0m\u001b[0;34m\u001b[0m\u001b[0m\n\u001b[0m",
      "\u001b[0;32m<ipython-input-113-4536d7e6e771>\u001b[0m in \u001b[0;36mget_elements\u001b[0;34m(html, elements)\u001b[0m\n\u001b[1;32m      6\u001b[0m \u001b[0;34m\u001b[0m\u001b[0m\n\u001b[1;32m      7\u001b[0m     \u001b[0morder\u001b[0m \u001b[0;34m=\u001b[0m \u001b[0melements\u001b[0m\u001b[0;34m.\u001b[0m\u001b[0mget\u001b[0m\u001b[0;34m(\u001b[0m\u001b[0;34m'order'\u001b[0m\u001b[0;34m,\u001b[0m\u001b[0;36m0\u001b[0m\u001b[0;34m)\u001b[0m\u001b[0;34m\u001b[0m\u001b[0;34m\u001b[0m\u001b[0m\n\u001b[0;32m----> 8\u001b[0;31m     \u001b[0melement\u001b[0m \u001b[0;34m=\u001b[0m \u001b[0mdata\u001b[0m\u001b[0;34m[\u001b[0m\u001b[0morder\u001b[0m\u001b[0;34m]\u001b[0m\u001b[0;34m\u001b[0m\u001b[0;34m\u001b[0m\u001b[0m\n\u001b[0m\u001b[1;32m      9\u001b[0m \u001b[0;34m\u001b[0m\u001b[0m\n\u001b[1;32m     10\u001b[0m     \u001b[0;32mif\u001b[0m \u001b[0;34m'get'\u001b[0m \u001b[0;32min\u001b[0m \u001b[0melements\u001b[0m\u001b[0;34m:\u001b[0m\u001b[0;34m\u001b[0m\u001b[0;34m\u001b[0m\u001b[0m\n",
      "\u001b[0;31mIndexError\u001b[0m: list index out of range"
     ]
    }
   ],
   "source": [
    "get_elements(listings[0], page_elements['rating'])"
   ]
  },
  {
   "cell_type": "code",
   "execution_count": 120,
   "id": "fd5d8282",
   "metadata": {},
   "outputs": [
    {
     "data": {
      "text/plain": [
       "'$84 CAD per night'"
      ]
     },
     "execution_count": 120,
     "metadata": {},
     "output_type": "execute_result"
    }
   ],
   "source": [
    "get_elements(listings[0], page_elements['price'])"
   ]
  },
  {
   "cell_type": "code",
   "execution_count": 121,
   "id": "daf8778f",
   "metadata": {},
   "outputs": [
    {
     "ename": "IndexError",
     "evalue": "list index out of range",
     "output_type": "error",
     "traceback": [
      "\u001b[0;31m---------------------------------------------------------------------------\u001b[0m",
      "\u001b[0;31mIndexError\u001b[0m                                Traceback (most recent call last)",
      "\u001b[0;32m<ipython-input-121-3effb1ae998a>\u001b[0m in \u001b[0;36m<module>\u001b[0;34m\u001b[0m\n\u001b[0;32m----> 1\u001b[0;31m \u001b[0mget_elements\u001b[0m\u001b[0;34m(\u001b[0m\u001b[0mlistings\u001b[0m\u001b[0;34m[\u001b[0m\u001b[0;36m0\u001b[0m\u001b[0;34m]\u001b[0m\u001b[0;34m,\u001b[0m \u001b[0mpage_elements\u001b[0m\u001b[0;34m[\u001b[0m\u001b[0;34m'superhost'\u001b[0m\u001b[0;34m]\u001b[0m\u001b[0;34m)\u001b[0m\u001b[0;34m\u001b[0m\u001b[0;34m\u001b[0m\u001b[0m\n\u001b[0m",
      "\u001b[0;32m<ipython-input-113-4536d7e6e771>\u001b[0m in \u001b[0;36mget_elements\u001b[0;34m(html, elements)\u001b[0m\n\u001b[1;32m      6\u001b[0m \u001b[0;34m\u001b[0m\u001b[0m\n\u001b[1;32m      7\u001b[0m     \u001b[0morder\u001b[0m \u001b[0;34m=\u001b[0m \u001b[0melements\u001b[0m\u001b[0;34m.\u001b[0m\u001b[0mget\u001b[0m\u001b[0;34m(\u001b[0m\u001b[0;34m'order'\u001b[0m\u001b[0;34m,\u001b[0m\u001b[0;36m0\u001b[0m\u001b[0;34m)\u001b[0m\u001b[0;34m\u001b[0m\u001b[0;34m\u001b[0m\u001b[0m\n\u001b[0;32m----> 8\u001b[0;31m     \u001b[0melement\u001b[0m \u001b[0;34m=\u001b[0m \u001b[0mdata\u001b[0m\u001b[0;34m[\u001b[0m\u001b[0morder\u001b[0m\u001b[0;34m]\u001b[0m\u001b[0;34m\u001b[0m\u001b[0;34m\u001b[0m\u001b[0m\n\u001b[0m\u001b[1;32m      9\u001b[0m \u001b[0;34m\u001b[0m\u001b[0m\n\u001b[1;32m     10\u001b[0m     \u001b[0;32mif\u001b[0m \u001b[0;34m'get'\u001b[0m \u001b[0;32min\u001b[0m \u001b[0melements\u001b[0m\u001b[0;34m:\u001b[0m\u001b[0;34m\u001b[0m\u001b[0;34m\u001b[0m\u001b[0m\n",
      "\u001b[0;31mIndexError\u001b[0m: list index out of range"
     ]
    }
   ],
   "source": [
    "get_elements(listings[0], page_elements['superhost'])"
   ]
  },
  {
   "cell_type": "markdown",
   "id": "46c249af",
   "metadata": {},
   "source": [
    "### Get all elements for every listing\n",
    "- Try&except aviod errors\n",
    "- Put 'empty' if element does not exist"
   ]
  },
  {
   "cell_type": "code",
   "execution_count": 122,
   "id": "c55cf9b0",
   "metadata": {},
   "outputs": [],
   "source": [
    "def get_all_elements(soup, elements):\n",
    "    listings_dict = {}\n",
    "    for element in elements:\n",
    "        try:\n",
    "            listings_dict[element] = get_elements(soup, elements[element])\n",
    "        except:\n",
    "            listings_dict[element] = 'empty'\n",
    "    return listings_dict"
   ]
  },
  {
   "cell_type": "code",
   "execution_count": 123,
   "id": "e7d38a40",
   "metadata": {
    "scrolled": true
   },
   "outputs": [
    {
     "data": {
      "text/plain": [
       "{'url': '/rooms/52826732?check_in=2021-10-25&check_out=2021-10-29&previous_page_section_name=1000&translate_ugc=false&federated_search_id=709e34d1-427d-4a2a-a054-c8c446861b95',\n",
       " 'name': 'Spacious and clean one bedroom',\n",
       " 'header': 'Entire rental unit in Dovercourt Park',\n",
       " 'rooms': '2 guests · 1 bedroom · 1 bed · 1 bath',\n",
       " 'facilities': 'Wifi · Air conditioning',\n",
       " 'rating': 'empty',\n",
       " 'price': '$84 CAD per night',\n",
       " 'superhost': 'empty'}"
      ]
     },
     "execution_count": 123,
     "metadata": {},
     "output_type": "execute_result"
    }
   ],
   "source": [
    "get_all_elements(listings[0], page_elements)"
   ]
  },
  {
   "cell_type": "markdown",
   "id": "d7d48869",
   "metadata": {},
   "source": [
    "### Get url lists for every page\n",
    "- Url has pattern\n",
    "- Airbnb only respond back 15 pages per search, which contains max 300 listings (usually 200+)."
   ]
  },
  {
   "cell_type": "code",
   "execution_count": null,
   "id": "89d0d40d",
   "metadata": {},
   "outputs": [],
   "source": [
    "#Page1: https://www.airbnb.ca/s/Toronto--ON/homes?tab_id=home_tab&refinement_paths%5B%5D=%2Fhomes&flexible_trip_dates%5B%5D=november&flexible_trip_dates%5B%5D=october&flexible_trip_lengths%5B%5D=weekend_trip&date_picker_type=calendar&query=Toronto%2C%20ON&place_id=ChIJpTvG15DL1IkRd8S0KlBVNTI&checkin=2021-10-25&checkout=2021-10-29&source=structured_search_input_header&search_type=autocomplete_click\n",
    "#Page2: https://www.airbnb.ca/s/Toronto--ON/homes?tab_id=home_tab&refinement_paths%5B%5D=%2Fhomes&flexible_trip_dates%5B%5D=november&flexible_trip_dates%5B%5D=october&flexible_trip_lengths%5B%5D=weekend_trip&date_picker_type=calendar&query=Toronto%2C%20ON&place_id=ChIJpTvG15DL1IkRd8S0KlBVNTI&checkin=2021-10-25&checkout=2021-10-29&source=structured_search_input_header&search_type=autocomplete_click&federated_search_session_id=c8f0fd79-c862-421f-83ee-a1c2769ec013&pagination_search=true&items_offset=20&section_offset=2\n",
    "#Page3: https://www.airbnb.ca/s/Toronto--ON/homes?tab_id=home_tab&refinement_paths%5B%5D=%2Fhomes&flexible_trip_dates%5B%5D=november&flexible_trip_dates%5B%5D=october&flexible_trip_lengths%5B%5D=weekend_trip&date_picker_type=calendar&query=Toronto%2C%20ON&place_id=ChIJpTvG15DL1IkRd8S0KlBVNTI&checkin=2021-10-25&checkout=2021-10-29&source=structured_search_input_header&search_type=autocomplete_click&federated_search_session_id=c8f0fd79-c862-421f-83ee-a1c2769ec013&pagination_search=true&items_offset=40&section_offset=2"
   ]
  },
  {
   "cell_type": "code",
   "execution_count": 124,
   "id": "cfcfd164",
   "metadata": {},
   "outputs": [],
   "source": [
    "def list_urls(url):\n",
    "    url_list = []\n",
    "    for i in range(15):\n",
    "        x = 20*i\n",
    "        urls = url + f'&federated_search_session_id=c8f0fd79-c862-421f-83ee-a1c2769ec013&pagination_search=true&items_offset={x}&section_offset=2'\n",
    "        url_list.append(urls)\n",
    "    return url_list"
   ]
  },
  {
   "cell_type": "code",
   "execution_count": 125,
   "id": "e238486e",
   "metadata": {
    "scrolled": true
   },
   "outputs": [
    {
     "data": {
      "text/plain": [
       "['https://www.airbnb.ca/s/Toronto--ON/homes?tab_id=home_tab&refinement_paths%5B%5D=%2Fhomes&flexible_trip_dates%5B%5D=november&flexible_trip_dates%5B%5D=october&flexible_trip_lengths%5B%5D=weekend_trip&date_picker_type=calendar&query=Toronto%2C%20ON&place_id=ChIJpTvG15DL1IkRd8S0KlBVNTI&checkin=2021-10-25&checkout=2021-10-29&source=structured_search_input_header&search_type=autocomplete_click&federated_search_session_id=c8f0fd79-c862-421f-83ee-a1c2769ec013&pagination_search=true&items_offset=0&section_offset=2',\n",
       " 'https://www.airbnb.ca/s/Toronto--ON/homes?tab_id=home_tab&refinement_paths%5B%5D=%2Fhomes&flexible_trip_dates%5B%5D=november&flexible_trip_dates%5B%5D=october&flexible_trip_lengths%5B%5D=weekend_trip&date_picker_type=calendar&query=Toronto%2C%20ON&place_id=ChIJpTvG15DL1IkRd8S0KlBVNTI&checkin=2021-10-25&checkout=2021-10-29&source=structured_search_input_header&search_type=autocomplete_click&federated_search_session_id=c8f0fd79-c862-421f-83ee-a1c2769ec013&pagination_search=true&items_offset=20&section_offset=2',\n",
       " 'https://www.airbnb.ca/s/Toronto--ON/homes?tab_id=home_tab&refinement_paths%5B%5D=%2Fhomes&flexible_trip_dates%5B%5D=november&flexible_trip_dates%5B%5D=october&flexible_trip_lengths%5B%5D=weekend_trip&date_picker_type=calendar&query=Toronto%2C%20ON&place_id=ChIJpTvG15DL1IkRd8S0KlBVNTI&checkin=2021-10-25&checkout=2021-10-29&source=structured_search_input_header&search_type=autocomplete_click&federated_search_session_id=c8f0fd79-c862-421f-83ee-a1c2769ec013&pagination_search=true&items_offset=40&section_offset=2',\n",
       " 'https://www.airbnb.ca/s/Toronto--ON/homes?tab_id=home_tab&refinement_paths%5B%5D=%2Fhomes&flexible_trip_dates%5B%5D=november&flexible_trip_dates%5B%5D=october&flexible_trip_lengths%5B%5D=weekend_trip&date_picker_type=calendar&query=Toronto%2C%20ON&place_id=ChIJpTvG15DL1IkRd8S0KlBVNTI&checkin=2021-10-25&checkout=2021-10-29&source=structured_search_input_header&search_type=autocomplete_click&federated_search_session_id=c8f0fd79-c862-421f-83ee-a1c2769ec013&pagination_search=true&items_offset=60&section_offset=2',\n",
       " 'https://www.airbnb.ca/s/Toronto--ON/homes?tab_id=home_tab&refinement_paths%5B%5D=%2Fhomes&flexible_trip_dates%5B%5D=november&flexible_trip_dates%5B%5D=october&flexible_trip_lengths%5B%5D=weekend_trip&date_picker_type=calendar&query=Toronto%2C%20ON&place_id=ChIJpTvG15DL1IkRd8S0KlBVNTI&checkin=2021-10-25&checkout=2021-10-29&source=structured_search_input_header&search_type=autocomplete_click&federated_search_session_id=c8f0fd79-c862-421f-83ee-a1c2769ec013&pagination_search=true&items_offset=80&section_offset=2',\n",
       " 'https://www.airbnb.ca/s/Toronto--ON/homes?tab_id=home_tab&refinement_paths%5B%5D=%2Fhomes&flexible_trip_dates%5B%5D=november&flexible_trip_dates%5B%5D=october&flexible_trip_lengths%5B%5D=weekend_trip&date_picker_type=calendar&query=Toronto%2C%20ON&place_id=ChIJpTvG15DL1IkRd8S0KlBVNTI&checkin=2021-10-25&checkout=2021-10-29&source=structured_search_input_header&search_type=autocomplete_click&federated_search_session_id=c8f0fd79-c862-421f-83ee-a1c2769ec013&pagination_search=true&items_offset=100&section_offset=2',\n",
       " 'https://www.airbnb.ca/s/Toronto--ON/homes?tab_id=home_tab&refinement_paths%5B%5D=%2Fhomes&flexible_trip_dates%5B%5D=november&flexible_trip_dates%5B%5D=october&flexible_trip_lengths%5B%5D=weekend_trip&date_picker_type=calendar&query=Toronto%2C%20ON&place_id=ChIJpTvG15DL1IkRd8S0KlBVNTI&checkin=2021-10-25&checkout=2021-10-29&source=structured_search_input_header&search_type=autocomplete_click&federated_search_session_id=c8f0fd79-c862-421f-83ee-a1c2769ec013&pagination_search=true&items_offset=120&section_offset=2',\n",
       " 'https://www.airbnb.ca/s/Toronto--ON/homes?tab_id=home_tab&refinement_paths%5B%5D=%2Fhomes&flexible_trip_dates%5B%5D=november&flexible_trip_dates%5B%5D=october&flexible_trip_lengths%5B%5D=weekend_trip&date_picker_type=calendar&query=Toronto%2C%20ON&place_id=ChIJpTvG15DL1IkRd8S0KlBVNTI&checkin=2021-10-25&checkout=2021-10-29&source=structured_search_input_header&search_type=autocomplete_click&federated_search_session_id=c8f0fd79-c862-421f-83ee-a1c2769ec013&pagination_search=true&items_offset=140&section_offset=2',\n",
       " 'https://www.airbnb.ca/s/Toronto--ON/homes?tab_id=home_tab&refinement_paths%5B%5D=%2Fhomes&flexible_trip_dates%5B%5D=november&flexible_trip_dates%5B%5D=october&flexible_trip_lengths%5B%5D=weekend_trip&date_picker_type=calendar&query=Toronto%2C%20ON&place_id=ChIJpTvG15DL1IkRd8S0KlBVNTI&checkin=2021-10-25&checkout=2021-10-29&source=structured_search_input_header&search_type=autocomplete_click&federated_search_session_id=c8f0fd79-c862-421f-83ee-a1c2769ec013&pagination_search=true&items_offset=160&section_offset=2',\n",
       " 'https://www.airbnb.ca/s/Toronto--ON/homes?tab_id=home_tab&refinement_paths%5B%5D=%2Fhomes&flexible_trip_dates%5B%5D=november&flexible_trip_dates%5B%5D=october&flexible_trip_lengths%5B%5D=weekend_trip&date_picker_type=calendar&query=Toronto%2C%20ON&place_id=ChIJpTvG15DL1IkRd8S0KlBVNTI&checkin=2021-10-25&checkout=2021-10-29&source=structured_search_input_header&search_type=autocomplete_click&federated_search_session_id=c8f0fd79-c862-421f-83ee-a1c2769ec013&pagination_search=true&items_offset=180&section_offset=2',\n",
       " 'https://www.airbnb.ca/s/Toronto--ON/homes?tab_id=home_tab&refinement_paths%5B%5D=%2Fhomes&flexible_trip_dates%5B%5D=november&flexible_trip_dates%5B%5D=october&flexible_trip_lengths%5B%5D=weekend_trip&date_picker_type=calendar&query=Toronto%2C%20ON&place_id=ChIJpTvG15DL1IkRd8S0KlBVNTI&checkin=2021-10-25&checkout=2021-10-29&source=structured_search_input_header&search_type=autocomplete_click&federated_search_session_id=c8f0fd79-c862-421f-83ee-a1c2769ec013&pagination_search=true&items_offset=200&section_offset=2',\n",
       " 'https://www.airbnb.ca/s/Toronto--ON/homes?tab_id=home_tab&refinement_paths%5B%5D=%2Fhomes&flexible_trip_dates%5B%5D=november&flexible_trip_dates%5B%5D=october&flexible_trip_lengths%5B%5D=weekend_trip&date_picker_type=calendar&query=Toronto%2C%20ON&place_id=ChIJpTvG15DL1IkRd8S0KlBVNTI&checkin=2021-10-25&checkout=2021-10-29&source=structured_search_input_header&search_type=autocomplete_click&federated_search_session_id=c8f0fd79-c862-421f-83ee-a1c2769ec013&pagination_search=true&items_offset=220&section_offset=2',\n",
       " 'https://www.airbnb.ca/s/Toronto--ON/homes?tab_id=home_tab&refinement_paths%5B%5D=%2Fhomes&flexible_trip_dates%5B%5D=november&flexible_trip_dates%5B%5D=october&flexible_trip_lengths%5B%5D=weekend_trip&date_picker_type=calendar&query=Toronto%2C%20ON&place_id=ChIJpTvG15DL1IkRd8S0KlBVNTI&checkin=2021-10-25&checkout=2021-10-29&source=structured_search_input_header&search_type=autocomplete_click&federated_search_session_id=c8f0fd79-c862-421f-83ee-a1c2769ec013&pagination_search=true&items_offset=240&section_offset=2',\n",
       " 'https://www.airbnb.ca/s/Toronto--ON/homes?tab_id=home_tab&refinement_paths%5B%5D=%2Fhomes&flexible_trip_dates%5B%5D=november&flexible_trip_dates%5B%5D=october&flexible_trip_lengths%5B%5D=weekend_trip&date_picker_type=calendar&query=Toronto%2C%20ON&place_id=ChIJpTvG15DL1IkRd8S0KlBVNTI&checkin=2021-10-25&checkout=2021-10-29&source=structured_search_input_header&search_type=autocomplete_click&federated_search_session_id=c8f0fd79-c862-421f-83ee-a1c2769ec013&pagination_search=true&items_offset=260&section_offset=2',\n",
       " 'https://www.airbnb.ca/s/Toronto--ON/homes?tab_id=home_tab&refinement_paths%5B%5D=%2Fhomes&flexible_trip_dates%5B%5D=november&flexible_trip_dates%5B%5D=october&flexible_trip_lengths%5B%5D=weekend_trip&date_picker_type=calendar&query=Toronto%2C%20ON&place_id=ChIJpTvG15DL1IkRd8S0KlBVNTI&checkin=2021-10-25&checkout=2021-10-29&source=structured_search_input_header&search_type=autocomplete_click&federated_search_session_id=c8f0fd79-c862-421f-83ee-a1c2769ec013&pagination_search=true&items_offset=280&section_offset=2']"
      ]
     },
     "execution_count": 125,
     "metadata": {},
     "output_type": "execute_result"
    }
   ],
   "source": [
    "list_urls(airbnb_url)"
   ]
  },
  {
   "cell_type": "code",
   "execution_count": 126,
   "id": "d8cee2fb",
   "metadata": {},
   "outputs": [],
   "source": [
    "url_lists = list_urls(airbnb_url)"
   ]
  },
  {
   "cell_type": "markdown",
   "id": "28f7d4b8",
   "metadata": {},
   "source": [
    "### Get data from all pages\n",
    "- Include sleep to prevent block"
   ]
  },
  {
   "cell_type": "code",
   "execution_count": 127,
   "id": "355bfef4",
   "metadata": {},
   "outputs": [],
   "source": [
    "def get_all_pages(url_lists):\n",
    "    page_list = []\n",
    "    for url in url_lists:\n",
    "        listings = get_page(url)\n",
    "        sleep(3)\n",
    "        for listing in listings:\n",
    "            elements = get_all_elements(listing, page_elements)\n",
    "            page_list.append(elements)\n",
    "    return page_list"
   ]
  },
  {
   "cell_type": "code",
   "execution_count": 128,
   "id": "58a7fafb",
   "metadata": {},
   "outputs": [],
   "source": [
    "weekday = get_all_pages(url_lists)"
   ]
  },
  {
   "cell_type": "markdown",
   "id": "53955f6d",
   "metadata": {},
   "source": [
    "### Convert data to dataframe and save as CSV file\n",
    "- Easy to manipulate data"
   ]
  },
  {
   "cell_type": "code",
   "execution_count": 129,
   "id": "dcb9ac0b",
   "metadata": {},
   "outputs": [],
   "source": [
    "pd.DataFrame(weekday).to_csv('weekday.csv', index = False)"
   ]
  },
  {
   "cell_type": "code",
   "execution_count": 135,
   "id": "ce6c085c",
   "metadata": {},
   "outputs": [],
   "source": [
    "weekday_list = pd.DataFrame(weekday)"
   ]
  },
  {
   "cell_type": "markdown",
   "id": "f38adb23",
   "metadata": {},
   "source": [
    "### Get more data and remove duplicates \n",
    "- Because Airbnb only has 15 pages per search, which means when user search again, the results could be different. \n",
    "- So I ran the above function multiple times and stored data in different CSV files, in order to get as more data as possible.\n",
    "- Remove duplicates by: \n",
    "####  df3 = pd.concat([df1,df2], ignore_index=True).drop_duplicates().reset_index(drop=True)"
   ]
  },
  {
   "cell_type": "markdown",
   "id": "da3d2043",
   "metadata": {},
   "source": [
    "### Get data for the same city but different time period\n",
    "- city: Totonto; Date: 2021.10.30- 2021.10.31 (weekend); Guest: not specified"
   ]
  },
  {
   "cell_type": "code",
   "execution_count": 130,
   "id": "7aa5052f",
   "metadata": {},
   "outputs": [],
   "source": [
    "weekend_url = 'https://www.airbnb.ca/s/Toronto--ON/homes?tab_id=home_tab&refinement_paths%5B%5D=%2Fhomes&flexible_trip_dates%5B%5D=november&flexible_trip_dates%5B%5D=october&flexible_trip_lengths%5B%5D=weekend_trip&date_picker_type=calendar&query=Toronto%2C%20ON&place_id=ChIJpTvG15DL1IkRd8S0KlBVNTI&checkin=2021-10-30&checkout=2021-10-31&source=structured_search_input_header&search_type=filter_change'"
   ]
  },
  {
   "cell_type": "code",
   "execution_count": 131,
   "id": "051b631b",
   "metadata": {},
   "outputs": [
    {
     "data": {
      "text/plain": [
       "20"
      ]
     },
     "execution_count": 131,
     "metadata": {},
     "output_type": "execute_result"
    }
   ],
   "source": [
    "len(get_page(weekend_url))"
   ]
  },
  {
   "cell_type": "code",
   "execution_count": 132,
   "id": "71335758",
   "metadata": {},
   "outputs": [],
   "source": [
    "weekend_list = list_urls(weekend_url)"
   ]
  },
  {
   "cell_type": "code",
   "execution_count": 133,
   "id": "3e938260",
   "metadata": {},
   "outputs": [],
   "source": [
    "weekend = get_all_pages(weekend_list)"
   ]
  },
  {
   "cell_type": "code",
   "execution_count": 134,
   "id": "fe02ebeb",
   "metadata": {},
   "outputs": [],
   "source": [
    "pd.DataFrame(weekend).to_csv('weekend.csv', index = False)"
   ]
  },
  {
   "cell_type": "code",
   "execution_count": 136,
   "id": "057d85ea",
   "metadata": {},
   "outputs": [],
   "source": [
    "weekend_list = pd.DataFrame(weekend)"
   ]
  },
  {
   "cell_type": "markdown",
   "id": "2dc3208f",
   "metadata": {},
   "source": [
    "### Convert price(string) to integer"
   ]
  },
  {
   "cell_type": "code",
   "execution_count": 154,
   "id": "794a9c1f",
   "metadata": {},
   "outputs": [
    {
     "data": {
      "text/plain": [
       "0                      $196 CAD per night\n",
       "1                       $84 CAD per night\n",
       "2                      $124 CAD per night\n",
       "3                       $54 CAD per night\n",
       "4                      $127 CAD per night\n",
       "                      ...                \n",
       "195                     $56 CAD per night\n",
       "196                     $63 CAD per night\n",
       "197                    $295 CAD per night\n",
       "198    $99 CAD per night, originally $114\n",
       "199                    $119 CAD per night\n",
       "Name: price, Length: 200, dtype: object"
      ]
     },
     "execution_count": 154,
     "metadata": {},
     "output_type": "execute_result"
    }
   ],
   "source": [
    "weekday_list['price']"
   ]
  },
  {
   "cell_type": "code",
   "execution_count": 159,
   "id": "636dee92",
   "metadata": {},
   "outputs": [
    {
     "data": {
      "text/plain": [
       "[196,\n",
       " 84,\n",
       " 124,\n",
       " 54,\n",
       " 127,\n",
       " 177,\n",
       " 90,\n",
       " 85,\n",
       " None,\n",
       " None,\n",
       " 94,\n",
       " 140,\n",
       " 256,\n",
       " 91,\n",
       " 181,\n",
       " 237,\n",
       " 105,\n",
       " 209,\n",
       " 86,\n",
       " 123,\n",
       " 120,\n",
       " 193,\n",
       " 112,\n",
       " 184,\n",
       " 193,\n",
       " 87,\n",
       " 38,\n",
       " 227,\n",
       " 159,\n",
       " 235,\n",
       " 86,\n",
       " 114,\n",
       " 202,\n",
       " None,\n",
       " 234,\n",
       " 243,\n",
       " 130,\n",
       " 214,\n",
       " 64,\n",
       " 79,\n",
       " 232,\n",
       " 235,\n",
       " 217,\n",
       " 160,\n",
       " 69,\n",
       " 112,\n",
       " None,\n",
       " 234,\n",
       " 202,\n",
       " 200,\n",
       " 188,\n",
       " None,\n",
       " None,\n",
       " 343,\n",
       " 242,\n",
       " 209,\n",
       " 239,\n",
       " 184,\n",
       " 318,\n",
       " 234,\n",
       " 184,\n",
       " 235,\n",
       " 75,\n",
       " 364,\n",
       " 71,\n",
       " None,\n",
       " 118,\n",
       " 76,\n",
       " 109,\n",
       " 329,\n",
       " 121,\n",
       " 318,\n",
       " 331,\n",
       " 205,\n",
       " 307,\n",
       " 392,\n",
       " 150,\n",
       " 225,\n",
       " 154,\n",
       " 246,\n",
       " 75,\n",
       " 183,\n",
       " 73,\n",
       " 141,\n",
       " 65,\n",
       " 183,\n",
       " 157,\n",
       " 236,\n",
       " 71,\n",
       " 76,\n",
       " 364,\n",
       " 460,\n",
       " 108,\n",
       " 259,\n",
       " 229,\n",
       " 277,\n",
       " 182,\n",
       " 294,\n",
       " 93,\n",
       " 120,\n",
       " 263,\n",
       " 440,\n",
       " 63,\n",
       " 75,\n",
       " 120,\n",
       " 93,\n",
       " 196,\n",
       " 294,\n",
       " 58,\n",
       " 297,\n",
       " 376,\n",
       " 102,\n",
       " 277,\n",
       " 183,\n",
       " 124,\n",
       " 63,\n",
       " 135,\n",
       " 312,\n",
       " None,\n",
       " 343,\n",
       " 70,\n",
       " 108,\n",
       " 229,\n",
       " 418,\n",
       " 104,\n",
       " 318,\n",
       " 119,\n",
       " 278,\n",
       " 283,\n",
       " 342,\n",
       " 157,\n",
       " 61,\n",
       " 102,\n",
       " 183,\n",
       " 178,\n",
       " 295,\n",
       " 271,\n",
       " 80,\n",
       " None,\n",
       " 280,\n",
       " 499,\n",
       " 212,\n",
       " 268,\n",
       " 194,\n",
       " 135,\n",
       " 83,\n",
       " 120,\n",
       " 286,\n",
       " 104,\n",
       " 252,\n",
       " 196,\n",
       " 460,\n",
       " 908,\n",
       " 272,\n",
       " 100,\n",
       " 233,\n",
       " 61,\n",
       " 65,\n",
       " 295,\n",
       " 130,\n",
       " 215,\n",
       " 97,\n",
       " 63,\n",
       " 116,\n",
       " 344,\n",
       " 250,\n",
       " 228,\n",
       " 186,\n",
       " 100,\n",
       " 121,\n",
       " 194,\n",
       " None,\n",
       " 243,\n",
       " 104,\n",
       " 329,\n",
       " 159,\n",
       " 280,\n",
       " 329,\n",
       " 307,\n",
       " 222,\n",
       " 63,\n",
       " 253,\n",
       " 374,\n",
       " 240,\n",
       " 100,\n",
       " 300,\n",
       " 324,\n",
       " 182,\n",
       " 283,\n",
       " 130,\n",
       " 100,\n",
       " None,\n",
       " 175,\n",
       " 83,\n",
       " 187,\n",
       " 56,\n",
       " 63,\n",
       " 295,\n",
       " 99,\n",
       " 119]"
      ]
     },
     "execution_count": 159,
     "metadata": {},
     "output_type": "execute_result"
    }
   ],
   "source": [
    "int_price = []\n",
    "for x in weekday_list['price']:\n",
    "    try:\n",
    "        y = int(x.replace('$','').split()[0])\n",
    "    except:\n",
    "        y = None\n",
    "    int_price.append(y)\n",
    "int_price"
   ]
  },
  {
   "cell_type": "code",
   "execution_count": 163,
   "id": "a3907537",
   "metadata": {
    "scrolled": true
   },
   "outputs": [],
   "source": [
    "weekday_list['price_num'] = int_price"
   ]
  },
  {
   "cell_type": "markdown",
   "id": "818e0d5f",
   "metadata": {},
   "source": [
    "### Calculate the average price in weekday"
   ]
  },
  {
   "cell_type": "code",
   "execution_count": 166,
   "id": "869dab1e",
   "metadata": {},
   "outputs": [
    {
     "data": {
      "text/plain": [
       "193.24338624338625"
      ]
     },
     "execution_count": 166,
     "metadata": {},
     "output_type": "execute_result"
    }
   ],
   "source": [
    "weekday_list['price_num'].mean()"
   ]
  },
  {
   "cell_type": "markdown",
   "id": "cb261148",
   "metadata": {},
   "source": [
    "### Calculate the number of superhost in weekday"
   ]
  },
  {
   "cell_type": "code",
   "execution_count": 170,
   "id": "8875cd2b",
   "metadata": {
    "scrolled": true
   },
   "outputs": [
    {
     "data": {
      "text/plain": [
       "empty        125\n",
       "SUPERHOST     72\n",
       "PLUS           3\n",
       "Name: superhost, dtype: int64"
      ]
     },
     "execution_count": 170,
     "metadata": {},
     "output_type": "execute_result"
    }
   ],
   "source": [
    "weekday_list['superhost'].value_counts()"
   ]
  },
  {
   "cell_type": "markdown",
   "id": "2474006b",
   "metadata": {},
   "source": [
    "### Convert rooms(string) to number of bedroom(integer)"
   ]
  },
  {
   "cell_type": "code",
   "execution_count": 185,
   "id": "22fca8dd",
   "metadata": {},
   "outputs": [
    {
     "data": {
      "text/plain": [
       "[1,\n",
       " 1,\n",
       " 1,\n",
       " 1,\n",
       " 1,\n",
       " 1,\n",
       " 1,\n",
       " 1,\n",
       " 1,\n",
       " 1,\n",
       " 1,\n",
       " 1,\n",
       " 1,\n",
       " 1,\n",
       " 1,\n",
       " 2,\n",
       " 2,\n",
       " 1,\n",
       " 1,\n",
       " 1,\n",
       " None,\n",
       " 1,\n",
       " 1,\n",
       " 1,\n",
       " 1,\n",
       " 1,\n",
       " 1,\n",
       " 2,\n",
       " 1,\n",
       " 1,\n",
       " 1,\n",
       " None,\n",
       " 1,\n",
       " 1,\n",
       " None,\n",
       " 1,\n",
       " 1,\n",
       " 1,\n",
       " 1,\n",
       " 1,\n",
       " 2,\n",
       " 1,\n",
       " None,\n",
       " 1,\n",
       " 1,\n",
       " 1,\n",
       " 1,\n",
       " None,\n",
       " 1,\n",
       " 1,\n",
       " 2,\n",
       " 1,\n",
       " 1,\n",
       " 1,\n",
       " 1,\n",
       " 1,\n",
       " 2,\n",
       " 1,\n",
       " 1,\n",
       " 1,\n",
       " 1,\n",
       " 1,\n",
       " 1,\n",
       " 2,\n",
       " 1,\n",
       " 1,\n",
       " 1,\n",
       " 1,\n",
       " 1,\n",
       " 2,\n",
       " 1,\n",
       " 1,\n",
       " 3,\n",
       " 1,\n",
       " 2,\n",
       " 2,\n",
       " 1,\n",
       " 1,\n",
       " 2,\n",
       " 2,\n",
       " 1,\n",
       " 1,\n",
       " 1,\n",
       " 1,\n",
       " 1,\n",
       " 1,\n",
       " 1,\n",
       " 1,\n",
       " 1,\n",
       " 1,\n",
       " 2,\n",
       " 3,\n",
       " 1,\n",
       " 3,\n",
       " 1,\n",
       " 1,\n",
       " 1,\n",
       " 2,\n",
       " 1,\n",
       " 1,\n",
       " 2,\n",
       " 2,\n",
       " 1,\n",
       " 1,\n",
       " 1,\n",
       " 1,\n",
       " 1,\n",
       " 2,\n",
       " 1,\n",
       " 2,\n",
       " 1,\n",
       " 1,\n",
       " 1,\n",
       " 1,\n",
       " 1,\n",
       " 1,\n",
       " 1,\n",
       " 2,\n",
       " 2,\n",
       " 2,\n",
       " 1,\n",
       " 1,\n",
       " 1,\n",
       " 3,\n",
       " 1,\n",
       " 2,\n",
       " 1,\n",
       " 3,\n",
       " 1,\n",
       " 1,\n",
       " 1,\n",
       " 1,\n",
       " 1,\n",
       " 1,\n",
       " None,\n",
       " 2,\n",
       " 2,\n",
       " 1,\n",
       " 2,\n",
       " 2,\n",
       " 2,\n",
       " 1,\n",
       " 2,\n",
       " 2,\n",
       " 1,\n",
       " 1,\n",
       " 1,\n",
       " 2,\n",
       " 1,\n",
       " 2,\n",
       " 1,\n",
       " 3,\n",
       " 2,\n",
       " 3,\n",
       " 1,\n",
       " 2,\n",
       " 1,\n",
       " 1,\n",
       " 2,\n",
       " 1,\n",
       " 2,\n",
       " 5,\n",
       " 1,\n",
       " None,\n",
       " 2,\n",
       " 1,\n",
       " 2,\n",
       " 1,\n",
       " 1,\n",
       " 1,\n",
       " 2,\n",
       " 1,\n",
       " 1,\n",
       " None,\n",
       " 2,\n",
       " 1,\n",
       " 2,\n",
       " 2,\n",
       " 2,\n",
       " 2,\n",
       " 1,\n",
       " 1,\n",
       " 2,\n",
       " None,\n",
       " 1,\n",
       " 2,\n",
       " 2,\n",
       " 2,\n",
       " 1,\n",
       " 1,\n",
       " 1,\n",
       " 1,\n",
       " 1,\n",
       " 1,\n",
       " 1,\n",
       " 1,\n",
       " 1,\n",
       " 2,\n",
       " 1,\n",
       " 1]"
      ]
     },
     "execution_count": 185,
     "metadata": {},
     "output_type": "execute_result"
    }
   ],
   "source": [
    "bedroom = []\n",
    "for x in weekday_list['rooms']:\n",
    "    try:\n",
    "        y = int(x.split(' · ')[1].split()[0])\n",
    "    except:\n",
    "        y = None\n",
    "    bedroom.append(y)\n",
    "bedroom"
   ]
  },
  {
   "cell_type": "code",
   "execution_count": 186,
   "id": "8d531c05",
   "metadata": {},
   "outputs": [],
   "source": [
    "weekday_list['bedrooms'] = bedroom"
   ]
  },
  {
   "cell_type": "code",
   "execution_count": 191,
   "id": "a90f2070",
   "metadata": {
    "scrolled": false
   },
   "outputs": [
    {
     "data": {
      "image/png": "[encoded data removed]",
      "text/plain": [
       "<Figure size 432x288 with 1 Axes>"
      ]
     },
     "metadata": {
      "needs_background": "light"
     },
     "output_type": "display_data"
    }
   ],
   "source": [
    "plt.plot(weekday_list['bedrooms'],weekday_list['price_num'], 'x');"
   ]
  },
  {
   "cell_type": "markdown",
   "id": "2f20d954",
   "metadata": {},
   "source": [
    "### Convert guest(string) to number of guest allowed(integer)"
   ]
  },
  {
   "cell_type": "code",
   "execution_count": 192,
   "id": "b23a2b40",
   "metadata": {},
   "outputs": [
    {
     "data": {
      "text/plain": [
       "[3,\n",
       " 2,\n",
       " 2,\n",
       " 1,\n",
       " 1,\n",
       " 3,\n",
       " 2,\n",
       " 2,\n",
       " 2,\n",
       " 2,\n",
       " 4,\n",
       " 2,\n",
       " 2,\n",
       " 2,\n",
       " 2,\n",
       " 5,\n",
       " 2,\n",
       " 4,\n",
       " 1,\n",
       " 2,\n",
       " 2,\n",
       " 2,\n",
       " 2,\n",
       " 4,\n",
       " 4,\n",
       " 2,\n",
       " 1,\n",
       " 5,\n",
       " 4,\n",
       " 2,\n",
       " 1,\n",
       " 2,\n",
       " 2,\n",
       " 6,\n",
       " 2,\n",
       " 2,\n",
       " 3,\n",
       " 2,\n",
       " 2,\n",
       " 2,\n",
       " 6,\n",
       " 2,\n",
       " 2,\n",
       " 2,\n",
       " 2,\n",
       " 2,\n",
       " 2,\n",
       " 2,\n",
       " 2,\n",
       " 4,\n",
       " 4,\n",
       " 2,\n",
       " 6,\n",
       " 3,\n",
       " 4,\n",
       " 4,\n",
       " 5,\n",
       " 6,\n",
       " 2,\n",
       " 4,\n",
       " 6,\n",
       " 2,\n",
       " 2,\n",
       " 4,\n",
       " 2,\n",
       " 2,\n",
       " 3,\n",
       " 2,\n",
       " 1,\n",
       " 6,\n",
       " 2,\n",
       " 2,\n",
       " 6,\n",
       " 2,\n",
       " 4,\n",
       " 4,\n",
       " 3,\n",
       " 4,\n",
       " 5,\n",
       " 6,\n",
       " 2,\n",
       " 3,\n",
       " 1,\n",
       " 4,\n",
       " 1,\n",
       " 3,\n",
       " 4,\n",
       " 4,\n",
       " 1,\n",
       " 2,\n",
       " 4,\n",
       " 10,\n",
       " 1,\n",
       " 7,\n",
       " 2,\n",
       " 3,\n",
       " 3,\n",
       " 4,\n",
       " 1,\n",
       " 4,\n",
       " 4,\n",
       " 5,\n",
       " 3,\n",
       " 2,\n",
       " 4,\n",
       " 1,\n",
       " 2,\n",
       " 4,\n",
       " 2,\n",
       " 4,\n",
       " 3,\n",
       " 2,\n",
       " 3,\n",
       " 3,\n",
       " 2,\n",
       " 2,\n",
       " 4,\n",
       " 4,\n",
       " 5,\n",
       " 6,\n",
       " 2,\n",
       " 1,\n",
       " 3,\n",
       " 6,\n",
       " 2,\n",
       " 5,\n",
       " 1,\n",
       " 6,\n",
       " 2,\n",
       " 5,\n",
       " 4,\n",
       " 2,\n",
       " 1,\n",
       " 3,\n",
       " 2,\n",
       " 4,\n",
       " 4,\n",
       " 2,\n",
       " 4,\n",
       " 4,\n",
       " 6,\n",
       " 3,\n",
       " 3,\n",
       " 4,\n",
       " 4,\n",
       " 1,\n",
       " 4,\n",
       " 5,\n",
       " 3,\n",
       " 5,\n",
       " 2,\n",
       " 10,\n",
       " 5,\n",
       " 6,\n",
       " 3,\n",
       " 6,\n",
       " 1,\n",
       " 1,\n",
       " 4,\n",
       " 2,\n",
       " 4,\n",
       " 5,\n",
       " 2,\n",
       " 2,\n",
       " 5,\n",
       " 4,\n",
       " 4,\n",
       " 2,\n",
       " 4,\n",
       " 1,\n",
       " 5,\n",
       " 5,\n",
       " 2,\n",
       " 2,\n",
       " 6,\n",
       " 2,\n",
       " 4,\n",
       " 6,\n",
       " 6,\n",
       " 4,\n",
       " 1,\n",
       " 2,\n",
       " 6,\n",
       " 2,\n",
       " 4,\n",
       " 4,\n",
       " 4,\n",
       " 4,\n",
       " 2,\n",
       " 2,\n",
       " 3,\n",
       " 5,\n",
       " 4,\n",
       " 1,\n",
       " 2,\n",
       " 1,\n",
       " 3,\n",
       " 4,\n",
       " 1,\n",
       " 4]"
      ]
     },
     "execution_count": 192,
     "metadata": {},
     "output_type": "execute_result"
    }
   ],
   "source": [
    "guest = []\n",
    "for x in weekday_list['rooms']:\n",
    "    try:\n",
    "        y = int(x.split(' · ')[0].split()[0])\n",
    "    except:\n",
    "        y = None\n",
    "    guest.append(y)\n",
    "guest"
   ]
  },
  {
   "cell_type": "code",
   "execution_count": null,
   "id": "ac1ea0f5",
   "metadata": {},
   "outputs": [],
   "source": []
  },
  {
   "cell_type": "markdown",
   "id": "21e12f57",
   "metadata": {},
   "source": [
    "### Calculate the average price in weekend"
   ]
  },
  {
   "cell_type": "code",
   "execution_count": 167,
   "id": "a58a0126",
   "metadata": {},
   "outputs": [
    {
     "data": {
      "text/plain": [
       "[62,\n",
       " 118,\n",
       " 122,\n",
       " None,\n",
       " 118,\n",
       " 147,\n",
       " 619,\n",
       " 504,\n",
       " 130,\n",
       " 76,\n",
       " 130,\n",
       " 324,\n",
       " 115,\n",
       " 407,\n",
       " 202,\n",
       " 131,\n",
       " 83,\n",
       " 163,\n",
       " 200,\n",
       " 613,\n",
       " 123,\n",
       " 102,\n",
       " 89,\n",
       " 106,\n",
       " 163,\n",
       " 383,\n",
       " 141,\n",
       " 200,\n",
       " 106,\n",
       " 152,\n",
       " 197,\n",
       " 136,\n",
       " 136,\n",
       " 121,\n",
       " 608,\n",
       " 235,\n",
       " 431,\n",
       " 187,\n",
       " 187,\n",
       " 106,\n",
       " 98,\n",
       " 94,\n",
       " 350,\n",
       " 504,\n",
       " 90,\n",
       " 312,\n",
       " 608,\n",
       " 168,\n",
       " 86,\n",
       " 502,\n",
       " 93,\n",
       " 129,\n",
       " 66,\n",
       " 360,\n",
       " 150,\n",
       " 502,\n",
       " 509,\n",
       " 611,\n",
       " 207,\n",
       " 123,\n",
       " 123,\n",
       " 129,\n",
       " 84,\n",
       " 201,\n",
       " 126,\n",
       " 509,\n",
       " 158,\n",
       " 94,\n",
       " 312,\n",
       " 183,\n",
       " 117,\n",
       " 502,\n",
       " 187,\n",
       " 608,\n",
       " 88,\n",
       " 502,\n",
       " 298,\n",
       " 74,\n",
       " 94,\n",
       " 141,\n",
       " 196,\n",
       " 199,\n",
       " 163,\n",
       " 322,\n",
       " 518,\n",
       " 419,\n",
       " 187,\n",
       " 502,\n",
       " 82,\n",
       " 148,\n",
       " 74,\n",
       " 290,\n",
       " 92,\n",
       " 70,\n",
       " 92,\n",
       " 86,\n",
       " 117,\n",
       " 117,\n",
       " 148,\n",
       " 203,\n",
       " 608,\n",
       " 85,\n",
       " 82,\n",
       " 354,\n",
       " 608,\n",
       " 395,\n",
       " 122,\n",
       " 518,\n",
       " 133,\n",
       " 93,\n",
       " 135,\n",
       " 68,\n",
       " 371,\n",
       " 210,\n",
       " 132,\n",
       " 203,\n",
       " 132,\n",
       " 198,\n",
       " 117,\n",
       " 436,\n",
       " 198,\n",
       " 608,\n",
       " 103,\n",
       " 83,\n",
       " 197,\n",
       " 91,\n",
       " 90,\n",
       " 164,\n",
       " 288,\n",
       " 142,\n",
       " 342,\n",
       " 96,\n",
       " 293,\n",
       " 177,\n",
       " 92,\n",
       " 187,\n",
       " 96,\n",
       " 92,\n",
       " 114,\n",
       " 282,\n",
       " 139,\n",
       " 114,\n",
       " 100,\n",
       " 148,\n",
       " 114,\n",
       " 100,\n",
       " 33,\n",
       " 147,\n",
       " 293,\n",
       " 111,\n",
       " 187,\n",
       " 187,\n",
       " 290,\n",
       " 210,\n",
       " 106,\n",
       " 103,\n",
       " 97,\n",
       " 98,\n",
       " 97,\n",
       " 140]"
      ]
     },
     "execution_count": 167,
     "metadata": {},
     "output_type": "execute_result"
    }
   ],
   "source": [
    "num_price = []\n",
    "for x in weekend_list['price']:\n",
    "    try:\n",
    "        y = int(x.replace('$','').split()[0])\n",
    "    except:\n",
    "        y = None\n",
    "    num_price.append(y)\n",
    "num_price"
   ]
  },
  {
   "cell_type": "code",
   "execution_count": 168,
   "id": "ef004d2e",
   "metadata": {},
   "outputs": [],
   "source": [
    "weekend_list['price_num'] = num_price"
   ]
  },
  {
   "cell_type": "code",
   "execution_count": 169,
   "id": "e040364c",
   "metadata": {},
   "outputs": [
    {
     "data": {
      "text/plain": [
       "212.8238993710692"
      ]
     },
     "execution_count": 169,
     "metadata": {},
     "output_type": "execute_result"
    }
   ],
   "source": [
    "weekend_list['price_num'].mean()"
   ]
  },
  {
   "cell_type": "markdown",
   "id": "15074395",
   "metadata": {},
   "source": [
    "### Calculate the number of superhost in weekend"
   ]
  },
  {
   "cell_type": "code",
   "execution_count": 171,
   "id": "5fdaad53",
   "metadata": {},
   "outputs": [
    {
     "data": {
      "text/plain": [
       "empty        125\n",
       "SUPERHOST     35\n",
       "Name: superhost, dtype: int64"
      ]
     },
     "execution_count": 171,
     "metadata": {},
     "output_type": "execute_result"
    }
   ],
   "source": [
    "weekend_list['superhost'].value_counts()"
   ]
  },
  {
   "cell_type": "code",
   "execution_count": 3,
   "id": "21624a94",
   "metadata": {},
   "outputs": [],
   "source": [
    "BeautifulSoup?"
   ]
  }
 ],
 "metadata": {
  "kernelspec": {
   "display_name": "Python 3 (ipykernel)",
   "language": "python",
   "name": "python3"
  },
  "language_info": {
   "codemirror_mode": {
    "name": "ipython",
    "version": 3
   },
   "file_extension": ".py",
   "mimetype": "text/x-python",
   "name": "python",
   "nbconvert_exporter": "python",
   "pygments_lexer": "ipython3",
   "version": "3.8.8"
  }
 },
 "nbformat": 4,
 "nbformat_minor": 5
}
