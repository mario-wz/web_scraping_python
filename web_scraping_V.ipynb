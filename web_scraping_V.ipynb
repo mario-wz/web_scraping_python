{
 "cells": [
  {
   "cell_type": "code",
   "execution_count": 131,
   "id": "712ef76c",
   "metadata": {},
   "outputs": [],
   "source": [
    "# imports\n",
    "import pandas as pd\n",
    "from bs4 import BeautifulSoup # For HTML parsing\n",
    "import requests # Website connections\n",
    "from time import sleep # To prevent overwhelming the server between connections\n",
    "from collections import Counter # Keep track of our term counts\n",
    "import pandas as pd # For converting results to a dataframe and bar chart plots\n",
    "import json # For parsing json\n",
    "%matplotlib inline"
   ]
  },
  {
   "cell_type": "code",
   "execution_count": 132,
   "id": "6f3d17e6",
   "metadata": {},
   "outputs": [],
   "source": [
    "def get_page(page_url):\n",
    "    result =requests.get(page_url)\n",
    "    content = result.content\n",
    "    soup = BeautifulSoup(content, 'html.parser')\n",
    "    items = soup.find_all('div', class_ = 'prodlist-itembox')\n",
    "    return items"
   ]
  },
  {
   "cell_type": "code",
   "execution_count": 157,
   "id": "d73e60a6",
   "metadata": {},
   "outputs": [],
   "source": [
    "clearance_url = 'https://www.visions.ca/clearance?px=0'"
   ]
  },
  {
   "cell_type": "code",
   "execution_count": 158,
   "id": "b447ea61",
   "metadata": {},
   "outputs": [],
   "source": [
    "products = get_page(clearance_url)"
   ]
  },
  {
   "cell_type": "code",
   "execution_count": 159,
   "id": "f5d4619e",
   "metadata": {},
   "outputs": [
    {
     "data": {
      "text/plain": [
       "15"
      ]
     },
     "execution_count": 159,
     "metadata": {},
     "output_type": "execute_result"
    }
   ],
   "source": [
    "len(products)"
   ]
  },
  {
   "cell_type": "code",
   "execution_count": 160,
   "id": "cf315d22",
   "metadata": {
    "scrolled": true
   },
   "outputs": [
    {
     "name": "stdout",
     "output_type": "stream",
     "text": [
      "<div class=\"prodlist-itembox\">\n",
      " <div class=\"prodlist-comparebox\">\n",
      "  <div class=\"prodlist-compare\">\n",
      "  </div>\n",
      " </div>\n",
      " <div class=\"prodlist-imgbox\">\n",
      "  <div>\n",
      "   <img class=\"prodlist-brand\" src=\"/Images/Catalogue/Brand/English/brand_110.gif\"/>\n",
      "  </div>\n",
      "  <div>\n",
      "   <a href=\"/product-detail/46620/monster_mobile_cable_high_performance_usb_type_a_2_0_to_micro_usb_b_black_and_silver_3_feet?categoryId=1330&amp;sku=MBLUSBMI-3BK-SLVWW\">\n",
      "    <img class=\"prodlist-img\" src=\"/Images/Catalogue/Product/Dir1/46620_l_1.jpg\"/>\n",
      "   </a>\n",
      "  </div>\n",
      " </div>\n",
      " <div class=\"prodlist-infobox\">\n",
      "  <div class=\"prodlist-title\">\n",
      "   <a href=\"/product-detail/46620/monster_mobile_cable_high_performance_usb_type_a_2_0_to_micro_usb_b_black_and_silver_3_feet?categoryId=1330&amp;sku=MBLUSBMI-3BK-SLVWW\" id=\"ContentPlaceHolder1_rptResult_ctrlProductItemUC_0_lnkDecription_0\" style=\"text-decoration:none;\">\n",
      "    <b>\n",
      "     Monster Mobile Cable High Performance USB Type A 2.0 to Micro USB B - Black and Silver - 3 Feet (MBLUSBMI-3BK-SLVWW)\n",
      "    </b>\n",
      "   </a>\n",
      "  </div>\n",
      "  <div class=\"rating-92guw\">\n",
      "   <div id=\"pr_rating_prod_46620\">\n",
      "   </div>\n",
      "  </div>\n",
      "  <div>\n",
      "   <div class=\"prodlist-priceinfo-leftbox\">\n",
      "    <div class=\"prodlist-pricingtag-container\">\n",
      "     <div class=\"saleprice-box432gh pricing-font\">\n",
      "      <span class=\"saleprice-432gh\">\n",
      "       $1\n",
      "      </span>\n",
      "     </div>\n",
      "     <div class=\"save-box432gh pricing-font\">\n",
      "      <span class=\"save-lbl432gh\">\n",
      "       Save\n",
      "      </span>\n",
      "      <span class=\"save-432gh\">\n",
      "       $4\n",
      "      </span>\n",
      "     </div>\n",
      "     <div class=\"prodlist-strikeprice\">\n",
      "      <span>\n",
      "       Reg.\n",
      "      </span>\n",
      "      <span>\n",
      "       $4.99\n",
      "      </span>\n",
      "     </div>\n",
      "    </div>\n",
      "    <div class=\"prodlist-pricing-info2\" style=\"margin-left:0;\">\n",
      "     <div>\n",
      "      <span>\n",
      "       Sale Ends: 2021-10-21\n",
      "      </span>\n",
      "     </div>\n",
      "     <div class=\"txt-298re\">\n",
      "      Final Clearance\n",
      "     </div>\n",
      "    </div>\n",
      "   </div>\n",
      "   <div class=\"prodlist-descript-rightbox\">\n",
      "    <div class=\"prodlist-description\">\n",
      "     The Monster High Performance USB TYPE A 2.0 to Micro USB-B Cable in black and silver features a Duraflex protective jacket, a re-enforced connector head, heavy duty shielding and a tangle free design.\n",
      "    </div>\n",
      "    <div class=\"prodlist-moreinfolink-box\">\n",
      "     <a href=\"/product-detail/46620/monster_mobile_cable_high_performance_usb_type_a_2_0_to_micro_usb_b_black_and_silver_3_feet?categoryId=1330&amp;sku=MBLUSBMI-3BK-SLVWW\">\n",
      "      → More Info\n",
      "     </a>\n",
      "    </div>\n",
      "   </div>\n",
      "   <div style=\"clear:both;\">\n",
      "   </div>\n",
      "  </div>\n",
      "  <p>\n",
      "  </p>\n",
      " </div>\n",
      " <div style=\"clear:both;\">\n",
      " </div>\n",
      "</div>\n",
      "\n"
     ]
    }
   ],
   "source": [
    "print(products[0].prettify())"
   ]
  },
  {
   "cell_type": "code",
   "execution_count": 161,
   "id": "a7a165aa",
   "metadata": {},
   "outputs": [],
   "source": [
    "page_elements = {\n",
    "    'url': {'tag':'a', 'get':'href'},\n",
    "    'name': {'tag':'div', 'class':'prodlist-title'},\n",
    "    'sale_end': {'tag':'div', 'class':'prodlist-pricing-info2'},\n",
    "    'price': {'tag':'span', 'class':'saleprice-432gh'},\n",
    "    'saves': {'tag':'span', 'class':'save-432gh'},\n",
    "    'regular_price': {'tag':'div', 'class':'prodlist-strikeprice'},\n",
    "    'shipping': {'tag':'div', 'class':'txt-298re'},\n",
    "    'description':{'tag':'div', 'class':'prodlist-description'}\n",
    "}"
   ]
  },
  {
   "cell_type": "code",
   "execution_count": 162,
   "id": "b3a04c11",
   "metadata": {},
   "outputs": [],
   "source": [
    "def get_elements(html, elements):\n",
    "    if 'class' in elements:\n",
    "        data = html.find_all(elements['tag'],elements['class'])\n",
    "    else:\n",
    "        data = html.find_all(elements['tag'])\n",
    "    \n",
    "    order = elements.get('order',0)\n",
    "    element = data[order]\n",
    "    \n",
    "    if 'get' in elements:\n",
    "        output = element.get(elements['get'])\n",
    "    else:\n",
    "        output = element.get_text()\n",
    "        \n",
    "    return output"
   ]
  },
  {
   "cell_type": "code",
   "execution_count": 163,
   "id": "b37424ce",
   "metadata": {},
   "outputs": [
    {
     "data": {
      "text/plain": [
       "'/product-detail/46620/monster_mobile_cable_high_performance_usb_type_a_2_0_to_micro_usb_b_black_and_silver_3_feet?categoryId=1330&sku=MBLUSBMI-3BK-SLVWW'"
      ]
     },
     "execution_count": 163,
     "metadata": {},
     "output_type": "execute_result"
    }
   ],
   "source": [
    "get_elements(products[0], page_elements['url'])"
   ]
  },
  {
   "cell_type": "code",
   "execution_count": 165,
   "id": "6dbd8959",
   "metadata": {},
   "outputs": [
    {
     "data": {
      "text/plain": [
       "'Monster Mobile Cable High Performance USB Type A 2.0 to Micro USB B - Black and Silver - 3 Feet (MBLUSBMI-3BK-SLVWW)'"
      ]
     },
     "execution_count": 165,
     "metadata": {},
     "output_type": "execute_result"
    }
   ],
   "source": [
    "get_elements(products[0], page_elements['name']).strip('\\n')"
   ]
  },
  {
   "cell_type": "code",
   "execution_count": 167,
   "id": "4bd66f25",
   "metadata": {},
   "outputs": [
    {
     "data": {
      "text/plain": [
       "'$1'"
      ]
     },
     "execution_count": 167,
     "metadata": {},
     "output_type": "execute_result"
    }
   ],
   "source": [
    "get_elements(products[0], page_elements['price'])"
   ]
  },
  {
   "cell_type": "code",
   "execution_count": 168,
   "id": "39a9aaf5",
   "metadata": {},
   "outputs": [
    {
     "data": {
      "text/plain": [
       "'$4'"
      ]
     },
     "execution_count": 168,
     "metadata": {},
     "output_type": "execute_result"
    }
   ],
   "source": [
    "get_elements(products[0], page_elements['saves'])"
   ]
  },
  {
   "cell_type": "code",
   "execution_count": 169,
   "id": "0568f98a",
   "metadata": {},
   "outputs": [
    {
     "data": {
      "text/plain": [
       "'Reg. \\n$4.99'"
      ]
     },
     "execution_count": 169,
     "metadata": {},
     "output_type": "execute_result"
    }
   ],
   "source": [
    "get_elements(products[0], page_elements['regular_price']).strip('\\n')"
   ]
  },
  {
   "cell_type": "code",
   "execution_count": 170,
   "id": "1190ed2a",
   "metadata": {},
   "outputs": [
    {
     "data": {
      "text/plain": [
       "'Final Clearance'"
      ]
     },
     "execution_count": 170,
     "metadata": {},
     "output_type": "execute_result"
    }
   ],
   "source": [
    "get_elements(products[0], page_elements['shipping'])"
   ]
  },
  {
   "cell_type": "code",
   "execution_count": 171,
   "id": "d1f2944c",
   "metadata": {
    "scrolled": true
   },
   "outputs": [
    {
     "data": {
      "text/plain": [
       "'\\r\\n\\t\\t\\t\\t\\tThe Monster High Performance USB TYPE A 2.0 to Micro USB-B Cable in black and silver features a Duraflex protective jacket, a re-enforced connector head, heavy duty shielding and a tangle free design.\\r\\n\\t\\t\\t\\t'"
      ]
     },
     "execution_count": 171,
     "metadata": {},
     "output_type": "execute_result"
    }
   ],
   "source": [
    "get_elements(products[0], page_elements['description'])"
   ]
  },
  {
   "cell_type": "code",
   "execution_count": 172,
   "id": "ba949d25",
   "metadata": {},
   "outputs": [],
   "source": [
    "def get_all_elements(soup, elements):\n",
    "    products_dict = {}\n",
    "    for element in elements:\n",
    "        try:\n",
    "            products_dict[element] = get_elements(soup, elements[element])\n",
    "        except:\n",
    "            products_dict[element] = 'empty'\n",
    "    return products_dict"
   ]
  },
  {
   "cell_type": "code",
   "execution_count": 173,
   "id": "5949c25c",
   "metadata": {},
   "outputs": [
    {
     "data": {
      "text/plain": [
       "{'url': '/product-detail/46620/monster_mobile_cable_high_performance_usb_type_a_2_0_to_micro_usb_b_black_and_silver_3_feet?categoryId=1330&sku=MBLUSBMI-3BK-SLVWW',\n",
       " 'name': '\\nMonster Mobile Cable High Performance USB Type A 2.0 to Micro USB B - Black and Silver - 3 Feet (MBLUSBMI-3BK-SLVWW)\\n',\n",
       " 'sale_end': '\\nSale Ends: 2021-10-21\\nFinal Clearance\\n',\n",
       " 'price': '$1',\n",
       " 'saves': '$4',\n",
       " 'regular_price': '\\nReg. \\n$4.99\\n',\n",
       " 'shipping': 'Final Clearance',\n",
       " 'description': '\\r\\n\\t\\t\\t\\t\\tThe Monster High Performance USB TYPE A 2.0 to Micro USB-B Cable in black and silver features a Duraflex protective jacket, a re-enforced connector head, heavy duty shielding and a tangle free design.\\r\\n\\t\\t\\t\\t'}"
      ]
     },
     "execution_count": 173,
     "metadata": {},
     "output_type": "execute_result"
    }
   ],
   "source": [
    "get_all_elements(products[0], page_elements)"
   ]
  },
  {
   "cell_type": "code",
   "execution_count": 149,
   "id": "3a5b2061",
   "metadata": {},
   "outputs": [],
   "source": [
    "def list_urls(product):\n",
    "    url_list = []\n",
    "    for i in range(1,27):\n",
    "        x = i-1\n",
    "        urls = f'https://www.visions.ca/category-name/5/{product}?px={x}&menu=9'\n",
    "        url_list.append(urls)\n",
    "    return url_list"
   ]
  },
  {
   "cell_type": "code",
   "execution_count": null,
   "id": "f88754a2",
   "metadata": {},
   "outputs": [],
   "source": [
    "https://www.visions.ca/category-name/5/televisions?menu=9\n",
    "https://www.visions.ca/category-name/5/televisions?px=1&menu=9\n",
    "https://www.visions.ca/category-name/5/televisions?px=2&menu=9"
   ]
  },
  {
   "cell_type": "code",
   "execution_count": 150,
   "id": "30d4ffae",
   "metadata": {},
   "outputs": [
    {
     "data": {
      "text/plain": [
       "['https://www.visions.ca/category-name/5/televisions?px=0&menu=9',\n",
       " 'https://www.visions.ca/category-name/5/televisions?px=1&menu=9',\n",
       " 'https://www.visions.ca/category-name/5/televisions?px=2&menu=9',\n",
       " 'https://www.visions.ca/category-name/5/televisions?px=3&menu=9',\n",
       " 'https://www.visions.ca/category-name/5/televisions?px=4&menu=9',\n",
       " 'https://www.visions.ca/category-name/5/televisions?px=5&menu=9',\n",
       " 'https://www.visions.ca/category-name/5/televisions?px=6&menu=9',\n",
       " 'https://www.visions.ca/category-name/5/televisions?px=7&menu=9',\n",
       " 'https://www.visions.ca/category-name/5/televisions?px=8&menu=9',\n",
       " 'https://www.visions.ca/category-name/5/televisions?px=9&menu=9',\n",
       " 'https://www.visions.ca/category-name/5/televisions?px=10&menu=9',\n",
       " 'https://www.visions.ca/category-name/5/televisions?px=11&menu=9',\n",
       " 'https://www.visions.ca/category-name/5/televisions?px=12&menu=9',\n",
       " 'https://www.visions.ca/category-name/5/televisions?px=13&menu=9',\n",
       " 'https://www.visions.ca/category-name/5/televisions?px=14&menu=9',\n",
       " 'https://www.visions.ca/category-name/5/televisions?px=15&menu=9',\n",
       " 'https://www.visions.ca/category-name/5/televisions?px=16&menu=9',\n",
       " 'https://www.visions.ca/category-name/5/televisions?px=17&menu=9',\n",
       " 'https://www.visions.ca/category-name/5/televisions?px=18&menu=9',\n",
       " 'https://www.visions.ca/category-name/5/televisions?px=19&menu=9',\n",
       " 'https://www.visions.ca/category-name/5/televisions?px=20&menu=9',\n",
       " 'https://www.visions.ca/category-name/5/televisions?px=21&menu=9',\n",
       " 'https://www.visions.ca/category-name/5/televisions?px=22&menu=9',\n",
       " 'https://www.visions.ca/category-name/5/televisions?px=23&menu=9',\n",
       " 'https://www.visions.ca/category-name/5/televisions?px=24&menu=9',\n",
       " 'https://www.visions.ca/category-name/5/televisions?px=25&menu=9']"
      ]
     },
     "execution_count": 150,
     "metadata": {},
     "output_type": "execute_result"
    }
   ],
   "source": [
    "list_urls('televisions')"
   ]
  },
  {
   "cell_type": "code",
   "execution_count": 177,
   "id": "8f4dc97a",
   "metadata": {},
   "outputs": [],
   "source": [
    "def lst_urls():\n",
    "    url_lst = []\n",
    "    for i in range(1,49):\n",
    "        x = i-1\n",
    "        urls = f'https://www.visions.ca/clearance?px={x}'\n",
    "        url_lst.append(urls)\n",
    "    return url_lst"
   ]
  },
  {
   "cell_type": "code",
   "execution_count": 180,
   "id": "5b2784d7",
   "metadata": {},
   "outputs": [],
   "source": [
    "lst = lst_urls()"
   ]
  },
  {
   "cell_type": "code",
   "execution_count": 151,
   "id": "b0e6c6b6",
   "metadata": {},
   "outputs": [],
   "source": [
    "url_lists = list_urls('televisions')"
   ]
  },
  {
   "cell_type": "code",
   "execution_count": 179,
   "id": "8b20a693",
   "metadata": {},
   "outputs": [],
   "source": [
    "def get_all_pages(url_lists):\n",
    "    page_list = []\n",
    "    for url in url_lists:\n",
    "        products = get_page(url)\n",
    "        sleep(3)\n",
    "        for product in products:\n",
    "            elements = get_all_elements(product, page_elements)\n",
    "            page_list.append(elements)\n",
    "    return page_list"
   ]
  },
  {
   "cell_type": "code",
   "execution_count": 181,
   "id": "04e498a6",
   "metadata": {},
   "outputs": [],
   "source": [
    "clearance = get_all_pages(lst)"
   ]
  },
  {
   "cell_type": "code",
   "execution_count": 182,
   "id": "a0733081",
   "metadata": {},
   "outputs": [],
   "source": [
    "pd.DataFrame(clearance).to_csv('clearance.csv')"
   ]
  },
  {
   "cell_type": "code",
   "execution_count": 155,
   "id": "d696b1a4",
   "metadata": {},
   "outputs": [],
   "source": [
    "df = pd.DataFrame(data)"
   ]
  },
  {
   "cell_type": "code",
   "execution_count": 156,
   "id": "bd6a9436",
   "metadata": {},
   "outputs": [
    {
     "data": {
      "text/html": [
       "<div>\n",
       "<style scoped>\n",
       "    .dataframe tbody tr th:only-of-type {\n",
       "        vertical-align: middle;\n",
       "    }\n",
       "\n",
       "    .dataframe tbody tr th {\n",
       "        vertical-align: top;\n",
       "    }\n",
       "\n",
       "    .dataframe thead th {\n",
       "        text-align: right;\n",
       "    }\n",
       "</style>\n",
       "<table border=\"1\" class=\"dataframe\">\n",
       "  <thead>\n",
       "    <tr style=\"text-align: right;\">\n",
       "      <th></th>\n",
       "      <th>url</th>\n",
       "      <th>name</th>\n",
       "      <th>sale_end</th>\n",
       "      <th>price</th>\n",
       "      <th>saves</th>\n",
       "      <th>regular_price</th>\n",
       "      <th>shipping</th>\n",
       "      <th>description</th>\n",
       "    </tr>\n",
       "  </thead>\n",
       "  <tbody>\n",
       "    <tr>\n",
       "      <th>0</th>\n",
       "      <td>/product-detail/63394/samsung_82_tu7000_4k_cry...</td>\n",
       "      <td>\\nSamsung 82\" TU7000 4K Crystal UHD HDR Smart ...</td>\n",
       "      <td>\\nSale Ends: 2021-10-21\\nFree Shipping!\\nBonus...</td>\n",
       "      <td>$1,698</td>\n",
       "      <td>$600</td>\n",
       "      <td>\\nReg. \\n$2,298.00\\n</td>\n",
       "      <td>Free Shipping!</td>\n",
       "      <td>\\r\\n\\t\\t\\t\\t\\tThe ultra-fast Crystal Processor...</td>\n",
       "    </tr>\n",
       "    <tr>\n",
       "      <th>1</th>\n",
       "      <td>/product-detail/60822/jvc_55_select_series_4k_...</td>\n",
       "      <td>\\nJVC 55\" Select Series 4K UHD HDR Android Sma...</td>\n",
       "      <td>\\nSale Ends: 2021-10-21\\nFree Shipping!\\nBonus...</td>\n",
       "      <td>$498</td>\n",
       "      <td>$200</td>\n",
       "      <td>\\nReg. \\n$698.00\\n</td>\n",
       "      <td>Free Shipping!</td>\n",
       "      <td>\\r\\n\\t\\t\\t\\t\\tSELECT Series combines Smart Tec...</td>\n",
       "    </tr>\n",
       "    <tr>\n",
       "      <th>2</th>\n",
       "      <td>/product-detail/60820/jvc_50_select_series_4k_...</td>\n",
       "      <td>\\nJVC 50\" Select Series 4K UHD HDR Linux OS Sm...</td>\n",
       "      <td>\\nSale Ends: 2021-11-11\\nIn-Store Only\\nFinal ...</td>\n",
       "      <td>$398</td>\n",
       "      <td>$100</td>\n",
       "      <td>\\nReg. \\n$498.00\\n</td>\n",
       "      <td>In-Store Only</td>\n",
       "      <td>\\r\\n\\t\\t\\t\\t\\tSELECT Series combines Smart Tec...</td>\n",
       "    </tr>\n",
       "    <tr>\n",
       "      <th>3</th>\n",
       "      <td>/product-detail/64222/hisense_65_u88g_series_4...</td>\n",
       "      <td>\\nHisense 65\" U88G Series 4K ULED Quantum Dot ...</td>\n",
       "      <td>\\nSale Ends: 2021-10-21\\nFree Shipping!\\n› Ope...</td>\n",
       "      <td>$1,798</td>\n",
       "      <td>$400</td>\n",
       "      <td>\\nReg. \\n$2,198.00\\n</td>\n",
       "      <td>Free Shipping!</td>\n",
       "      <td>\\r\\n\\t\\t\\t\\t\\tThe Hisense U88G Series TV prove...</td>\n",
       "    </tr>\n",
       "    <tr>\n",
       "      <th>4</th>\n",
       "      <td>/product-detail/63521/lg_65_2021_c1_4k_hdr_ole...</td>\n",
       "      <td>\\nLG 65\" 2021 C1 4K HDR OLED Smart TV (OLED65C...</td>\n",
       "      <td>\\nSale Ends: 2021-10-21\\nFree Shipping!\\n› Ope...</td>\n",
       "      <td>$2,498</td>\n",
       "      <td>$800</td>\n",
       "      <td>\\nReg. \\n$3,298.00\\n</td>\n",
       "      <td>Free Shipping!</td>\n",
       "      <td>\\r\\n\\t\\t\\t\\t\\tLG OLED is a joy to behold. Self...</td>\n",
       "    </tr>\n",
       "    <tr>\n",
       "      <th>...</th>\n",
       "      <td>...</td>\n",
       "      <td>...</td>\n",
       "      <td>...</td>\n",
       "      <td>...</td>\n",
       "      <td>...</td>\n",
       "      <td>...</td>\n",
       "      <td>...</td>\n",
       "      <td>...</td>\n",
       "    </tr>\n",
       "    <tr>\n",
       "      <th>374</th>\n",
       "      <td>/product-detail/66697/hisense_65_a6_series_4k_...</td>\n",
       "      <td>\\nHisense 65\" A6 Series 4K UHD VIDDA U Smart T...</td>\n",
       "      <td>\\nSale Ends: 2021-10-21\\nFree Shipping!\\nBonus...</td>\n",
       "      <td>empty</td>\n",
       "      <td>empty</td>\n",
       "      <td>empty</td>\n",
       "      <td>Free Shipping!</td>\n",
       "      <td>\\r\\n\\t\\t\\t\\t\\tWith four times pixels (8.3 mill...</td>\n",
       "    </tr>\n",
       "    <tr>\n",
       "      <th>375</th>\n",
       "      <td>/product-detail/67078/lg_65_2021_nano90_4k_sma...</td>\n",
       "      <td>\\nLG 65\" 2021 NANO90 4K Smart TV plus Soundsta...</td>\n",
       "      <td>\\nSale Ends: 2021-10-21\\nFree Shipping!\\n</td>\n",
       "      <td>$1,998</td>\n",
       "      <td>$900</td>\n",
       "      <td>\\nReg. \\n$2,897.99\\n</td>\n",
       "      <td>Free Shipping!</td>\n",
       "      <td>\\r\\n\\t\\t\\t\\t\\t8 million pixels. One-in-a-milli...</td>\n",
       "    </tr>\n",
       "    <tr>\n",
       "      <th>376</th>\n",
       "      <td>/product-detail/67077/jvc_70_select_series_and...</td>\n",
       "      <td>\\nJVC 70\" Select Series Android Smart TV plus ...</td>\n",
       "      <td>\\nSale Ends: 2021-10-21\\nFree Shipping!\\n</td>\n",
       "      <td>$1,298</td>\n",
       "      <td>$549</td>\n",
       "      <td>\\nReg. \\n$1,847.00\\n</td>\n",
       "      <td>Free Shipping!</td>\n",
       "      <td>\\r\\n\\t\\t\\t\\t\\tSELECT Series combines Smart Tec...</td>\n",
       "    </tr>\n",
       "    <tr>\n",
       "      <th>377</th>\n",
       "      <td>/product-detail/66985/lg_77_2021_c1_4k_hdr_ole...</td>\n",
       "      <td>\\nLG 77\" 2021 C1 4K HDR OLED Smart TV plus Sou...</td>\n",
       "      <td>\\nSale Ends: 2021-10-21\\nFree Shipping!\\n</td>\n",
       "      <td>$4,498</td>\n",
       "      <td>$1800</td>\n",
       "      <td>\\nReg. \\n$6,297.99\\n</td>\n",
       "      <td>Free Shipping!</td>\n",
       "      <td>\\r\\n\\t\\t\\t\\t\\tLG OLED is a joy to behold. Self...</td>\n",
       "    </tr>\n",
       "    <tr>\n",
       "      <th>378</th>\n",
       "      <td>/product-detail/66693/hisense_32_a4gv_series_v...</td>\n",
       "      <td>\\nHisense 32\" A4GV Series Vidaa OS TV (32A4GV)\\n</td>\n",
       "      <td>\\nSale Ends: 2021-10-21\\nFree Shipping!\\nBonus...</td>\n",
       "      <td>$238</td>\n",
       "      <td>$20</td>\n",
       "      <td>\\nReg. \\n$258.00\\n</td>\n",
       "      <td>Free Shipping!</td>\n",
       "      <td>\\r\\n\\t\\t\\t\\t\\tStream movies and TV shows in HD...</td>\n",
       "    </tr>\n",
       "  </tbody>\n",
       "</table>\n",
       "<p>379 rows × 8 columns</p>\n",
       "</div>"
      ],
      "text/plain": [
       "                                                   url  \\\n",
       "0    /product-detail/63394/samsung_82_tu7000_4k_cry...   \n",
       "1    /product-detail/60822/jvc_55_select_series_4k_...   \n",
       "2    /product-detail/60820/jvc_50_select_series_4k_...   \n",
       "3    /product-detail/64222/hisense_65_u88g_series_4...   \n",
       "4    /product-detail/63521/lg_65_2021_c1_4k_hdr_ole...   \n",
       "..                                                 ...   \n",
       "374  /product-detail/66697/hisense_65_a6_series_4k_...   \n",
       "375  /product-detail/67078/lg_65_2021_nano90_4k_sma...   \n",
       "376  /product-detail/67077/jvc_70_select_series_and...   \n",
       "377  /product-detail/66985/lg_77_2021_c1_4k_hdr_ole...   \n",
       "378  /product-detail/66693/hisense_32_a4gv_series_v...   \n",
       "\n",
       "                                                  name  \\\n",
       "0    \\nSamsung 82\" TU7000 4K Crystal UHD HDR Smart ...   \n",
       "1    \\nJVC 55\" Select Series 4K UHD HDR Android Sma...   \n",
       "2    \\nJVC 50\" Select Series 4K UHD HDR Linux OS Sm...   \n",
       "3    \\nHisense 65\" U88G Series 4K ULED Quantum Dot ...   \n",
       "4    \\nLG 65\" 2021 C1 4K HDR OLED Smart TV (OLED65C...   \n",
       "..                                                 ...   \n",
       "374  \\nHisense 65\" A6 Series 4K UHD VIDDA U Smart T...   \n",
       "375  \\nLG 65\" 2021 NANO90 4K Smart TV plus Soundsta...   \n",
       "376  \\nJVC 70\" Select Series Android Smart TV plus ...   \n",
       "377  \\nLG 77\" 2021 C1 4K HDR OLED Smart TV plus Sou...   \n",
       "378   \\nHisense 32\" A4GV Series Vidaa OS TV (32A4GV)\\n   \n",
       "\n",
       "                                              sale_end   price  saves  \\\n",
       "0    \\nSale Ends: 2021-10-21\\nFree Shipping!\\nBonus...  $1,698   $600   \n",
       "1    \\nSale Ends: 2021-10-21\\nFree Shipping!\\nBonus...    $498   $200   \n",
       "2    \\nSale Ends: 2021-11-11\\nIn-Store Only\\nFinal ...    $398   $100   \n",
       "3    \\nSale Ends: 2021-10-21\\nFree Shipping!\\n› Ope...  $1,798   $400   \n",
       "4    \\nSale Ends: 2021-10-21\\nFree Shipping!\\n› Ope...  $2,498   $800   \n",
       "..                                                 ...     ...    ...   \n",
       "374  \\nSale Ends: 2021-10-21\\nFree Shipping!\\nBonus...   empty  empty   \n",
       "375          \\nSale Ends: 2021-10-21\\nFree Shipping!\\n  $1,998   $900   \n",
       "376          \\nSale Ends: 2021-10-21\\nFree Shipping!\\n  $1,298   $549   \n",
       "377          \\nSale Ends: 2021-10-21\\nFree Shipping!\\n  $4,498  $1800   \n",
       "378  \\nSale Ends: 2021-10-21\\nFree Shipping!\\nBonus...    $238    $20   \n",
       "\n",
       "            regular_price        shipping  \\\n",
       "0    \\nReg. \\n$2,298.00\\n  Free Shipping!   \n",
       "1      \\nReg. \\n$698.00\\n  Free Shipping!   \n",
       "2      \\nReg. \\n$498.00\\n   In-Store Only   \n",
       "3    \\nReg. \\n$2,198.00\\n  Free Shipping!   \n",
       "4    \\nReg. \\n$3,298.00\\n  Free Shipping!   \n",
       "..                    ...             ...   \n",
       "374                 empty  Free Shipping!   \n",
       "375  \\nReg. \\n$2,897.99\\n  Free Shipping!   \n",
       "376  \\nReg. \\n$1,847.00\\n  Free Shipping!   \n",
       "377  \\nReg. \\n$6,297.99\\n  Free Shipping!   \n",
       "378    \\nReg. \\n$258.00\\n  Free Shipping!   \n",
       "\n",
       "                                           description  \n",
       "0    \\r\\n\\t\\t\\t\\t\\tThe ultra-fast Crystal Processor...  \n",
       "1    \\r\\n\\t\\t\\t\\t\\tSELECT Series combines Smart Tec...  \n",
       "2    \\r\\n\\t\\t\\t\\t\\tSELECT Series combines Smart Tec...  \n",
       "3    \\r\\n\\t\\t\\t\\t\\tThe Hisense U88G Series TV prove...  \n",
       "4    \\r\\n\\t\\t\\t\\t\\tLG OLED is a joy to behold. Self...  \n",
       "..                                                 ...  \n",
       "374  \\r\\n\\t\\t\\t\\t\\tWith four times pixels (8.3 mill...  \n",
       "375  \\r\\n\\t\\t\\t\\t\\t8 million pixels. One-in-a-milli...  \n",
       "376  \\r\\n\\t\\t\\t\\t\\tSELECT Series combines Smart Tec...  \n",
       "377  \\r\\n\\t\\t\\t\\t\\tLG OLED is a joy to behold. Self...  \n",
       "378  \\r\\n\\t\\t\\t\\t\\tStream movies and TV shows in HD...  \n",
       "\n",
       "[379 rows x 8 columns]"
      ]
     },
     "execution_count": 156,
     "metadata": {},
     "output_type": "execute_result"
    }
   ],
   "source": [
    "df"
   ]
  }
 ],
 "metadata": {
  "kernelspec": {
   "display_name": "Python 3",
   "language": "python",
   "name": "python3"
  },
  "language_info": {
   "codemirror_mode": {
    "name": "ipython",
    "version": 3
   },
   "file_extension": ".py",
   "mimetype": "text/x-python",
   "name": "python",
   "nbconvert_exporter": "python",
   "pygments_lexer": "ipython3",
   "version": "3.8.8"
  }
 },
 "nbformat": 4,
 "nbformat_minor": 5
}
